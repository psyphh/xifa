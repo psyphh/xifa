{
 "cells": [
  {
   "cell_type": "markdown",
   "metadata": {},
   "source": [
    "# IPIP 300 Items Example (N=7,325)\n",
    "[![Open In Colab](https://colab.research.google.com/assets/colab-badge.svg)](http://colab.research.google.com/github/psyphh/xifa/blob/master/examples/ipip300v1.ipynb)"
   ]
  },
  {
   "cell_type": "code",
   "execution_count": 1,
   "metadata": {
    "execution": {
     "iopub.execute_input": "2022-01-03T07:18:17.493812Z",
     "iopub.status.busy": "2022-01-03T07:18:17.493425Z",
     "iopub.status.idle": "2022-01-03T07:18:59.091410Z",
     "shell.execute_reply": "2022-01-03T07:18:59.090259Z",
     "shell.execute_reply.started": "2022-01-03T07:18:17.493729Z"
    },
    "jupyter": {
     "outputs_hidden": false
    },
    "pycharm": {
     "name": "#%%\n"
    }
   },
   "outputs": [],
   "source": [
    "!pip install --upgrade pip\n",
    "!pip install jax==0.2.16 \n",
    "!pip install jaxlib==0.1.67+cuda110 -f https://storage.googleapis.com/jax-releases/jax_releases.html\n",
    "!pip install --upgrade pyreadstat\n",
    "!pip install --upgrade xifa\n",
    "!pip install --upgrade pandas\n",
    "!pip install --upgrade numpy"
   ]
  },
  {
   "cell_type": "code",
   "execution_count": 2,
   "metadata": {
    "execution": {
     "iopub.execute_input": "2022-01-03T07:18:59.094028Z",
     "iopub.status.busy": "2022-01-03T07:18:59.093624Z",
     "iopub.status.idle": "2022-01-03T07:18:59.610748Z",
     "shell.execute_reply": "2022-01-03T07:18:59.609890Z",
     "shell.execute_reply.started": "2022-01-03T07:18:59.093985Z"
    }
   },
   "outputs": [],
   "source": [
    "import requests, zipfile, os, pyreadstat\n",
    "import numpy as np\n",
    "import pandas as pd\n",
    "import jax\n",
    "import jax.numpy as jnp\n",
    "from xifa import GPCM\n",
    "jax.config.update(\"jax_enable_x64\", True)"
   ]
  },
  {
   "cell_type": "code",
   "execution_count": 3,
   "metadata": {
    "execution": {
     "iopub.execute_input": "2022-01-03T07:18:59.612799Z",
     "iopub.status.busy": "2022-01-03T07:18:59.612505Z",
     "iopub.status.idle": "2022-01-03T07:19:03.626481Z",
     "shell.execute_reply": "2022-01-03T07:19:03.625483Z",
     "shell.execute_reply.started": "2022-01-03T07:18:59.612773Z"
    },
    "jupyter": {
     "outputs_hidden": false
    },
    "pycharm": {
     "name": "#%%\n"
    }
   },
   "outputs": [],
   "source": [
    "def download_dataset(\n",
    "    dataset_url, dataset_name):\n",
    "    req = requests.get(\n",
    "        dataset_url, allow_redirects=True)\n",
    "    open(dataset_name + '.por',\"wb\").write(\n",
    "        req.content)\n",
    "\n",
    "dataset_url_a = \"https://files.osf.io/v1/resources/sxeq5/\"\n",
    "dataset_url_b = \"providers/osfstorage/563a77e38c5e4a3d3a115564?\"\n",
    "dataset_url_c = \"action=download&direct&version=1\"\n",
    "dataset_url = dataset_url_a + dataset_url_b + dataset_url_c\n",
    "dataset_name ='ipip300v1'\n",
    "download_dataset(dataset_url,dataset_name)"
   ]
  },
  {
   "cell_type": "code",
   "execution_count": 4,
   "metadata": {
    "execution": {
     "iopub.execute_input": "2022-01-03T07:19:03.630615Z",
     "iopub.status.busy": "2022-01-03T07:19:03.630314Z",
     "iopub.status.idle": "2022-01-03T07:19:19.748917Z",
     "shell.execute_reply": "2022-01-03T07:19:19.747854Z",
     "shell.execute_reply.started": "2022-01-03T07:19:03.630587Z"
    }
   },
   "outputs": [],
   "source": [
    "data, _ = pyreadstat.read_por(\"ipip300v1.por\")\n",
    "data = data.iloc[:, 2:302].apply(\n",
    "    lambda x: x.astype(\"float64\")).replace({0: np.nan})\n",
    "data = data.dropna()\n",
    "data = data.loc[:, ['I1', 'I31', 'I61', 'I91', 'I121',\n",
    "                    'I151', 'I181', 'I211', 'I241', 'I271',\n",
    "                    'I6', 'I36', 'I66', 'I96', 'I126',\n",
    "                    'I156', 'I186', 'I216', 'I246', 'I276',\n",
    "                    'I11', 'I41', 'I71', 'I101', 'I131', \n",
    "                    'I161', 'I191', 'I221', 'I251', 'I281',\n",
    "                    'I16', 'I46', 'I76', 'I106', 'I136', \n",
    "                    'I166', 'I196', 'I226', 'I256', 'I286',\n",
    "                    'I21', 'I51', 'I81', 'I111', 'I141',\n",
    "                    'I171', 'I201', 'I231', 'I261', 'I291',\n",
    "                    'I26', 'I56', 'I86', 'I116', 'I146',\n",
    "                    'I176', 'I206', 'I236', 'I266', 'I296',\n",
    "                    'I2', 'I32', 'I62', 'I92', 'I122',\n",
    "                    'I152', 'I182', 'I212', 'I242', 'I272',\n",
    "                    'I7', 'I37', 'I67', 'I97', 'I127',\n",
    "                    'I157', 'I187', 'I217', 'I247', 'I277',\n",
    "                    'I12', 'I42', 'I72', 'I102', 'I132',\n",
    "                    'I162', 'I192', 'I222', 'I252', 'I282',\n",
    "                    'I17', 'I47', 'I77', 'I107', 'I137',\n",
    "                    'I167', 'I197', 'I227', 'I257', 'I287',\n",
    "                    'I22', 'I52', 'I82', 'I112', 'I142', \n",
    "                    'I172', 'I202', 'I232', 'I262', 'I292',\n",
    "                    'I27', 'I57', 'I87', 'I117', 'I147', \n",
    "                    'I177', 'I207', 'I237', 'I267', 'I297',\n",
    "                    'I3', 'I33', 'I63', 'I93', 'I123', \n",
    "                    'I153', 'I183', 'I213', 'I243', 'I273',\n",
    "                    'I8', 'I38', 'I68', 'I98', 'I128',\n",
    "                    'I158', 'I88', 'I218', 'I248', 'I278',\n",
    "                    'I13', 'I43', 'I73', 'I103', 'I133',\n",
    "                    'I163', 'I193', 'I223', 'I253', 'I283',\n",
    "                    'I18', 'I48', 'I78', 'I108', 'I138', \n",
    "                    'I168', 'I198', 'I228', 'I258', 'I288',\n",
    "                    'I23', 'I53', 'I83', 'I113', 'I143',\n",
    "                    'I173', 'I203', 'I233', 'I263', 'I293',\n",
    "                    'I28', 'I58', 'I88', 'I118', 'I148', \n",
    "                    'I178', 'I208', 'I238', 'I268', 'I298',\n",
    "                    'I4', 'I34', 'I64', 'I94', 'I124', \n",
    "                    'I154', 'I184', 'I214', 'I244', 'I274',\n",
    "                    'I9', 'I39', 'I69', 'I99', 'I129', \n",
    "                    'I159', 'I189', 'I219', 'I249', 'I279',\n",
    "                    'I14', 'I44', 'I74', 'I104', 'I134',\n",
    "                    'I164', 'I194', 'I224', 'I254', 'I284',\n",
    "                    'I19', 'I49', 'I79', 'I109', 'I139', \n",
    "                    'I169', 'I199', 'I229', 'I259', 'I289',\n",
    "                    'I24', 'I54', 'I84', 'I114', 'I144', \n",
    "                    'I174', 'I204', 'I234', 'I264', 'I294',\n",
    "                    'I29', 'I59', 'I80', 'I119', 'I149', \n",
    "                    'I179', 'I209', 'I239', 'I269', 'I299',\n",
    "                    'I5', 'I35', 'I65', 'I95', 'I125', \n",
    "                    'I155', 'I185', 'I215', 'I245', 'I275',\n",
    "                    'I10', 'I40', 'I70', 'I100', 'I130',\n",
    "                    'I160', 'I190', 'I220', 'I250', 'I280',\n",
    "                    'I15', 'I45', 'I75', 'I105', 'I135',\n",
    "                    'I165', 'I195', 'I225', 'I255', 'I285',\n",
    "                    'I20', 'I50', 'I80', 'I110', 'I140', \n",
    "                    'I170', 'I200', 'I230', 'I260', 'I290',\n",
    "                    'I25', 'I55', 'I85', 'I115', 'I145',\n",
    "                    'I175', 'I205', 'I235', 'I265', 'I295',\n",
    "                    'I30', 'I60', 'I90', 'I120', 'I150', \n",
    "                    'I180', 'I210', 'I240', 'I270', 'I300']]\n",
    "data = jnp.array(data.values - 1)"
   ]
  },
  {
   "cell_type": "code",
   "execution_count": 5,
   "metadata": {
    "execution": {
     "iopub.execute_input": "2022-01-03T07:19:19.750736Z",
     "iopub.status.busy": "2022-01-03T07:19:19.750369Z",
     "iopub.status.idle": "2022-01-03T07:19:48.340284Z",
     "shell.execute_reply": "2022-01-03T07:19:48.339290Z",
     "shell.execute_reply.started": "2022-01-03T07:19:19.750700Z"
    }
   },
   "outputs": [],
   "source": [
    "n_factors = 30\n",
    "n_items = 300\n",
    "items_per_factor = int(n_items / n_factors)\n",
    "patterns = {\"loading\":{\n",
    "    m: list(\n",
    "        range(\n",
    "            m * items_per_factor, \n",
    "            (m + 1) * items_per_factor)) for m in range(\n",
    "        n_factors)}}\n",
    "gpcm = GPCM(data=data, \n",
    "            n_factors=n_factors, \n",
    "            patterns=patterns)\n",
    "gpcm.fit(corr_update='empirical')"
   ]
  },
  {
   "cell_type": "code",
   "execution_count": 6,
   "metadata": {
    "execution": {
     "iopub.execute_input": "2022-01-03T07:19:48.342085Z",
     "iopub.status.busy": "2022-01-03T07:19:48.341718Z",
     "iopub.status.idle": "2022-01-03T07:19:48.499927Z",
     "shell.execute_reply": "2022-01-03T07:19:48.499064Z",
     "shell.execute_reply.started": "2022-01-03T07:19:48.342044Z"
    }
   },
   "outputs": [],
   "source": [
    "import matplotlib.pyplot as plt\n",
    "plt.plot(gpcm.trace[\"closs\"])\n",
    "plt.ylabel('Complete Loss Values')\n",
    "plt.xlabel('Iteration')\n",
    "plt.title('MH-RM History')\n",
    "plt.show()"
   ]
  },
  {
   "cell_type": "code",
   "execution_count": 7,
   "metadata": {
    "execution": {
     "iopub.execute_input": "2022-01-03T07:19:48.501598Z",
     "iopub.status.busy": "2022-01-03T07:19:48.501228Z",
     "iopub.status.idle": "2022-01-03T07:19:55.714994Z",
     "shell.execute_reply": "2022-01-03T07:19:55.714055Z",
     "shell.execute_reply.started": "2022-01-03T07:19:48.501561Z"
    }
   },
   "outputs": [],
   "source": [
    "import time\n",
    "start_time = time.time()\n",
    "loglik = gpcm.loglik(batch_size=128)\n",
    "end_time = time.time()\n",
    "print(\"Log-Likelihood:\", loglik)\n",
    "print(\"Computation Time:\", end_time - start_time)"
   ]
  }
 ],
 "metadata": {
  "kernelspec": {
   "display_name": "Python 3",
   "language": "python",
   "name": "python3"
  },
  "language_info": {
   "codemirror_mode": {
    "name": "ipython",
    "version": 3
   },
   "file_extension": ".py",
   "mimetype": "text/x-python",
   "name": "python",
   "nbconvert_exporter": "python",
   "pygments_lexer": "ipython3",
   "version": "3.8.5"
  }
 },
 "nbformat": 4,
 "nbformat_minor": 4
}
