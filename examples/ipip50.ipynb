{
 "cells": [
  {
   "cell_type": "markdown",
   "source": [
    "# Big Five 50 Items Example\n",
    "\n",
    "\n",
    "In this example, we will demonstrate how to use `xifa` to analyze a [`ipip50`](http://openpsychometrics.org/_rawdata/BIG5.zip) dataset from [openspychometrics](https://openpsychometrics.org/_rawdata/) with a confirmatory graded response model (GRM; [Semejima, 1969](https://link.springer.com/article/10.1007%2FBF03372160)). `ipip50` dataset include responses of 19719 subjects on 50 items from International Personality Item Pool (IPIP; [Goldberg, 1992](https://doi.org/10.1037/1040-3590.4.1.26)).\n",
    "\n",
    "To open this notebook on [Google Colab](https://colab.research.google.com/), please use [link](http://colab.research.google.com/github/psyphh/xifa/blob/master/examples/ipip50.ipynb). After logging Colab, don't forget to turn on GPU by\n",
    "```\n",
    "Go to Menu > Runtime > Change runtime > Change hardware acceleration to GPU.\n",
    "```\n",
    "\n",
    "## Environment Setup\n",
    "For first running this notebook, please install `xifa` via"
   ],
   "metadata": {
    "collapsed": false,
    "pycharm": {
     "name": "#%% md\n"
    }
   }
  },
  {
   "cell_type": "code",
   "execution_count": 1,
   "outputs": [
    {
     "name": "stdout",
     "output_type": "stream",
     "text": [
      "Requirement already satisfied: xifa in /Users/phhaung/Documents/Package/xifa/venv/lib/python3.8/site-packages (0.0.1)\r\n"
     ]
    }
   ],
   "source": [
    "!pip install xifa"
   ],
   "metadata": {
    "collapsed": false,
    "pycharm": {
     "name": "#%%\n"
    }
   }
  },
  {
   "cell_type": "markdown",
   "source": [
    "Note that `xifa` is established on [`jax`](https://github.com/google/jax), which is officially supported only on Linux and Mac systems. Therefore, if you use a local Windows machine, `xifa` would not work.\n",
    "\n",
    "First of all, we import all necessary packages."
   ],
   "metadata": {
    "collapsed": false,
    "pycharm": {
     "name": "#%% md\n"
    }
   }
  },
  {
   "cell_type": "code",
   "execution_count": 2,
   "metadata": {
    "collapsed": true
   },
   "outputs": [],
   "source": [
    "import requests, zipfile, os\n",
    "import numpy as np\n",
    "import pandas as pd\n",
    "import matplotlib.pyplot as plt\n",
    "import jax\n",
    "from xifa import GRM\n"
   ]
  },
  {
   "cell_type": "markdown",
   "source": [
    "By default, `jax` uses single precision for floating points arithmetics. To enable double precision arithmetics, try"
   ],
   "metadata": {
    "collapsed": false,
    "pycharm": {
     "name": "#%% md\n"
    }
   }
  },
  {
   "cell_type": "code",
   "execution_count": 3,
   "outputs": [],
   "source": [
    "jax.config.update(\"jax_enable_x64\", True)"
   ],
   "metadata": {
    "collapsed": false,
    "pycharm": {
     "name": "#%%\n"
    }
   }
  },
  {
   "cell_type": "markdown",
   "source": [
    "## Data Preparation\n",
    "\n",
    "Now we download the `ipip50` dataset, unzip it, and read it as a pandas dataframe."
   ],
   "metadata": {
    "collapsed": false,
    "pycharm": {
     "name": "#%% md\n"
    }
   }
  },
  {
   "cell_type": "code",
   "execution_count": 4,
   "outputs": [],
   "source": [
    "def download_dataset(dataset_url,\n",
    "                     dataset_name):\n",
    "    req = requests.get(dataset_url, allow_redirects=True)\n",
    "    open(dataset_name + '.zip',\"wb\").write(req.content)\n",
    "    zipfile.ZipFile(dataset_name + '.zip').extractall()\n",
    "    os.remove(dataset_name+'.zip')\n",
    "\n",
    "dataset_url = \"http://openpsychometrics.org/_rawdata/BIG5.zip\"\n",
    "dataset_name = \"ipip50\"\n",
    "download_dataset(dataset_url, dataset_name)\n",
    "data = pd.read_csv(\"BIG5/data.csv\", sep=\"\\t\").iloc[:,-50:]"
   ],
   "metadata": {
    "collapsed": false,
    "pycharm": {
     "name": "#%%\n"
    }
   }
  },
  {
   "cell_type": "markdown",
   "source": [
    "The dataset only includes one observation with missing values (which is coded by `0` so we need to replace it by `np.nan`). However, the observation didn't response any items. Hence, we delete it."
   ],
   "metadata": {
    "collapsed": false,
    "pycharm": {
     "name": "#%% md\n"
    }
   }
  },
  {
   "cell_type": "code",
   "execution_count": 5,
   "outputs": [],
   "source": [
    "data = data.replace(0, np.nan)\n",
    "data = data.dropna()"
   ],
   "metadata": {
    "collapsed": false,
    "pycharm": {
     "name": "#%%\n"
    }
   }
  },
  {
   "cell_type": "markdown",
   "source": [
    "If missing data are presented, `xifa` uses the so-called full-information approach for estimation. Therefore, it is unnecessary to explicitly handle `np.nan` if the assumption of missing at random (MAR) is satisfied ([Rubin, 1976](https://doi.org/10.2307/2335739)).\n",
    "\n",
    "`xifa` requires the ordered responses to be coded from 0 to C-1, where C is the number of ordered categories. Because the original responses are coded from 1 to C, we need to subtract all values by 1 and reverse the coding for \"negative items\"."
   ],
   "metadata": {
    "collapsed": false,
    "pycharm": {
     "name": "#%% md\n"
    }
   }
  },
  {
   "cell_type": "code",
   "execution_count": 6,
   "outputs": [],
   "source": [
    "data = data - 1.0\n",
    "negative_items = [\"E2\", \"E4\", \"E6\", \"E8\", \"E10\",\n",
    "                  \"N2\", \"N4\",\n",
    "                  \"A1\", \"A3\", \"A5\", \"A7\",\n",
    "                  \"C2\", \"C4\", \"C6\", \"C8\",\n",
    "                  \"O2\", \"O4\", \"O6\"]\n",
    "data[negative_items] = 4 - data[negative_items]\n"
   ],
   "metadata": {
    "collapsed": false,
    "pycharm": {
     "name": "#%%\n"
    }
   }
  },
  {
   "cell_type": "markdown",
   "source": [
    "We use the heat map of correlation matrix to check whether our reversing is correct."
   ],
   "metadata": {
    "collapsed": false,
    "pycharm": {
     "name": "#%% md\n"
    }
   }
  },
  {
   "cell_type": "code",
   "execution_count": 7,
   "outputs": [
    {
     "data": {
      "text/plain": "<Figure size 450x450 with 1 Axes>",
      "image/png": "[encoded data removed]"
     },
     "metadata": {
      "needs_background": "light"
     },
     "output_type": "display_data"
    }
   ],
   "source": [
    "plt.figure(figsize=(3, 3), dpi=150)\n",
    "plt.imshow(data.corr(),\n",
    "           cmap='viridis')\n",
    "plt.show()"
   ],
   "metadata": {
    "collapsed": false,
    "pycharm": {
     "name": "#%%\n"
    }
   }
  },
  {
   "cell_type": "markdown",
   "source": [
    "## IFA Implementation\n",
    "Finally, we conduct IFA by using the `GRM` object imported from `xifa`. To initialize a `GRM` instance, a dataset (`data`) and a number of factors (`n_factors`) must be specified. The data must be a two dimensional floating point array (`n_cases * n_items`) that can be transformed to `jax.numpy.array`. For a confirmatory analysis, a pattern dictionary is also required. This pattern dictionary specifies the relationship among items and factors by their indices (starting form `0`). If pattern is specified, the model is treated as confirmatory and factor correlations are all estimated. Otherwise, the model is treated as exploratory and an orthogonal structure is assumed."
   ],
   "metadata": {
    "collapsed": false,
    "pycharm": {
     "name": "#%% md\n"
    }
   }
  },
  {
   "cell_type": "code",
   "execution_count": 8,
   "outputs": [
    {
     "name": "stderr",
     "output_type": "stream",
     "text": [
      "WARNING:absl:No GPU/TPU found, falling back to CPU. (Set TF_CPP_MIN_LOG_LEVEL=0 and rerun for more info.)\n"
     ]
    },
    {
     "name": "stdout",
     "output_type": "stream",
     "text": [
      "A GRM Object is Initialized Successfully.\n",
      " + Number of Cases: 19718\n",
      " + Number of Items: 50\n",
      " + Number of Factors: 5\n",
      " + Number of Categories: 5\n"
     ]
    }
   ],
   "source": [
    "n_factors = 5\n",
    "n_items = 50\n",
    "q = int(n_items / n_factors)\n",
    "pattern = {\"loading\":{m: set(range(m * q, (m + 1) * q)) for m in range(n_factors)}}\n",
    "grm = GRM(data=data,\n",
    "          n_factors=5,\n",
    "          pattern=pattern)"
   ],
   "metadata": {
    "collapsed": false,
    "pycharm": {
     "name": "#%%\n"
    }
   }
  },
  {
   "cell_type": "markdown",
   "source": [
    "The marginal maximum likelihood (MML) estimation can be implemented by the `fit()` method. `xifa` implements MML by a vectorized Metropolis-Hastings Robbins-Monro (MH-RM) algorithm. The algorithm includes two stages StEM and SAEM. The first stage updates the parameter estimate by a stochastic expectation-maximization (StEM) algorithm with `discard_iter` iterations. The second stage conducts stochastic approximation expectation-maximization (SAEM) with gain defined by `1 / (iter - discard_iter) ** sa_power`, where `iter` is the iteration counter."
   ],
   "metadata": {
    "collapsed": false,
    "pycharm": {
     "name": "#%% md\n"
    }
   }
  },
  {
   "cell_type": "code",
   "execution_count": 9,
   "outputs": [
    {
     "data": {
      "text/plain": "  0%|          | 0/200 [00:00<?, ?it/s]",
      "application/vnd.jupyter.widget-view+json": {
       "version_major": 2,
       "version_minor": 0,
       "model_id": "78475f55e6164b619d625f277ea9727c"
      }
     },
     "metadata": {},
     "output_type": "display_data"
    },
    {
     "data": {
      "text/plain": "  0%|          | 0/800 [00:00<?, ?it/s]",
      "application/vnd.jupyter.widget-view+json": {
       "version_major": 2,
       "version_minor": 0,
       "model_id": "2b29d3d0ae35425e8dc979ebd7e4551f"
      }
     },
     "metadata": {},
     "output_type": "display_data"
    },
    {
     "name": "stdout",
     "output_type": "stream",
     "text": [
      "Converged after 284 Iterations (224.07 sec).\n"
     ]
    },
    {
     "data": {
      "text/plain": "<xifa.grm.GRM at 0x7fd618ffa5e0>"
     },
     "execution_count": 9,
     "metadata": {},
     "output_type": "execute_result"
    }
   ],
   "source": [
    "grm.fit(lr=1.,\n",
    "        max_iter=1000,\n",
    "        discard_iter=200,\n",
    "        tol=10 ** (-4),\n",
    "        window_size=3,\n",
    "        chains=1,\n",
    "        warm_up=5,\n",
    "        jump_scale=\"default\",\n",
    "        adaptive_jump=True,\n",
    "        target_rate=.23,\n",
    "        jump_change=.01,\n",
    "        sa_power=1.,\n",
    "        corr_update=\"gd\",\n",
    "        verbose=True,\n",
    "        key=None,\n",
    "        batch_size=None,\n",
    "        batch_shuffle=None,\n",
    "        params=None,\n",
    "        masks=None)"
   ],
   "metadata": {
    "collapsed": false,
    "pycharm": {
     "name": "#%%\n"
    }
   }
  },
  {
   "cell_type": "markdown",
   "source": [
    "In this example, CPU takes about 5-10 minutes to finish the optimization job. If any GPU is available, the job can be speed up. On Colab with GPU, the job takes about 30 seconds.\n"
   ],
   "metadata": {
    "collapsed": false,
    "pycharm": {
     "name": "#%% md\n"
    }
   }
  },
  {
   "cell_type": "markdown",
   "source": [
    "The MML parameter estimate is stored in the `params` attribute in `grm`. `params` is a dictionary with three elements: `intercept` for intercepts, `loading` for factor loadings, and `corr` for factor correlations. For example,"
   ],
   "metadata": {
    "collapsed": false,
    "pycharm": {
     "name": "#%% md\n"
    }
   }
  },
  {
   "cell_type": "code",
   "execution_count": 10,
   "outputs": [
    {
     "name": "stdout",
     "output_type": "stream",
     "text": [
      "[[ 1.    -0.293  0.417  0.154  0.229]\n",
      " [-0.293  1.    -0.101 -0.333 -0.135]\n",
      " [ 0.417 -0.101  1.     0.205  0.181]\n",
      " [ 0.154 -0.333  0.205  1.     0.122]\n",
      " [ 0.229 -0.135  0.181  0.122  1.   ]]\n"
     ]
    }
   ],
   "source": [
    "print(np.round(grm.params[\"corr\"], 3))"
   ],
   "metadata": {
    "collapsed": false,
    "pycharm": {
     "name": "#%%\n"
    }
   }
  },
  {
   "cell_type": "markdown",
   "source": [
    "It is also possible to use an averaged parameter estimate by `aparams` attribute, which is the mean of parameter estimates obtained in the SAEM stage.\n",
    "\n",
    "The optimization history is stored in the `trace` attribute. To see how the complete data loss changes over optimization, we may use"
   ],
   "metadata": {
    "collapsed": false,
    "pycharm": {
     "name": "#%% md\n"
    }
   }
  },
  {
   "cell_type": "code",
   "execution_count": 11,
   "outputs": [
    {
     "data": {
      "text/plain": "<Figure size 432x288 with 1 Axes>",
      "image/png": "[encoded data removed]"
     },
     "metadata": {
      "needs_background": "light"
     },
     "output_type": "display_data"
    }
   ],
   "source": [
    "plt.plot(grm.trace[\"closs\"])\n",
    "plt.ylabel('Complete Loss Values')\n",
    "plt.xlabel('Iteration')\n",
    "plt.title('MH-RM History')\n",
    "plt.show()"
   ],
   "metadata": {
    "collapsed": false,
    "pycharm": {
     "name": "#%%\n"
    }
   }
  }
 ],
 "metadata": {
  "kernelspec": {
   "display_name": "Python 3",
   "language": "python",
   "name": "python3"
  },
  "language_info": {
   "codemirror_mode": {
    "name": "ipython",
    "version": 2
   },
   "file_extension": ".py",
   "mimetype": "text/x-python",
   "name": "python",
   "nbconvert_exporter": "python",
   "pygments_lexer": "ipython2",
   "version": "2.7.6"
  }
 },
 "nbformat": 4,
 "nbformat_minor": 0
}