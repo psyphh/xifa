{
  "cells": [
    {
      "cell_type": "markdown",
      "metadata": {
        "pycharm": {
          "name": "#%% md\n"
        },
        "id": "81xPOmXw3jWw"
      },
      "source": [
        "# IPIP 50 Items Example\n",
        "[![Open In Colab](https://colab.research.google.com/assets/colab-badge.svg)](http://colab.research.google.com/github/psyphh/xifa/blob/master/examples/ipip50.ipynb)\n",
        "\n",
        "In this example, we will demonstrate how to use `xifa` to analyze a [`ipip50`](http://openpsychometrics.org/_rawdata/BIG5.zip) dataset from [openspychometrics](https://openpsychometrics.org/_rawdata/) with both exploratory and confirmatory graded response models (GRMs; [Semejima, 1969](https://link.springer.com/article/10.1007%2FBF03372160)). The `ipip50` dataset include responses of 19719 subjects on 50 items from International Personality Item Pool (IPIP; [Goldberg, 1992](https://doi.org/10.1037/1040-3590.4.1.26)).\n",
        "\n",
        "To open this notebook on [Google Colab](https://colab.research.google.com/), please use [this link](http://colab.research.google.com/github/psyphh/xifa/blob/master/examples/ipip50.ipynb). After logging Colab, don't forget to turn on GPU by\n",
        "```\n",
        "Go to Menu > Runtime > Change runtime > Change hardware acceleration to GPU.\n",
        "```\n",
        "\n",
        "## Environment Setup\n",
        "For first running this notebook, please install `xifa` via\n",
        "```\n",
        "pip install --upgrade xifa\n",
        "```\n",
        "on terminal, or\n",
        "```\n",
        "!pip install --upgrade xifa\n",
        "```\n",
        "on jupyter notebook (or Colab).\n",
        "\n",
        "Let's install `xifa` on jupyter notebook!"
      ]
    },
    {
      "cell_type": "code",
      "execution_count": 1,
      "metadata": {
        "execution": {
          "iopub.execute_input": "2022-01-03T03:02:51.299731Z",
          "iopub.status.busy": "2022-01-03T03:02:51.299422Z",
          "iopub.status.idle": "2022-01-03T03:03:00.818849Z",
          "shell.execute_reply": "2022-01-03T03:03:00.817865Z",
          "shell.execute_reply.started": "2022-01-03T03:02:51.299664Z"
        },
        "jupyter": {
          "outputs_hidden": false
        },
        "pycharm": {
          "name": "#%%\n"
        },
        "colab": {
          "base_uri": "https://localhost:8080/"
        },
        "id": "_FFBsPU83jW0",
        "outputId": "d8af7695-b88f-4511-cea8-613f17b13973"
      },
      "outputs": [
        {
          "output_type": "stream",
          "name": "stdout",
          "text": [
            "Looking in indexes: https://pypi.org/simple, https://us-python.pkg.dev/colab-wheels/public/simple/\n",
            "Requirement already satisfied: xifa in /usr/local/lib/python3.7/dist-packages (0.1.11)\n"
          ]
        }
      ],
      "source": [
        "!pip install --upgrade xifa"
      ]
    },
    {
      "cell_type": "markdown",
      "metadata": {
        "pycharm": {
          "name": "#%% md\n"
        },
        "id": "P1-o-ke93jW1"
      },
      "source": [
        "Note that `xifa` is established on [`jax`](https://github.com/google/jax), which is officially supported only on Linux and Mac systems. Therefore, if you use a local Windows machine, `xifa` might not work.\n",
        "\n",
        "First of all, we import all necessary packages."
      ]
    },
    {
      "cell_type": "code",
      "execution_count": 2,
      "metadata": {
        "execution": {
          "iopub.execute_input": "2022-01-03T03:03:00.820895Z",
          "iopub.status.busy": "2022-01-03T03:03:00.820573Z",
          "iopub.status.idle": "2022-01-03T03:03:02.159772Z",
          "shell.execute_reply": "2022-01-03T03:03:02.158899Z",
          "shell.execute_reply.started": "2022-01-03T03:03:00.820855Z"
        },
        "colab": {
          "base_uri": "https://localhost:8080/"
        },
        "id": "iXF4OB-83jW2",
        "outputId": "bf322c05-e1cf-413c-9730-a6916f59c403"
      },
      "outputs": [
        {
          "output_type": "stream",
          "name": "stderr",
          "text": [
            "/usr/local/lib/python3.7/dist-packages/statsmodels/tools/_testing.py:19: FutureWarning: pandas.util.testing is deprecated. Use the functions in the public API at pandas.testing instead.\n",
            "  import pandas.util.testing as tm\n"
          ]
        }
      ],
      "source": [
        "import os\n",
        "import zipfile\n",
        "\n",
        "import jax\n",
        "import matplotlib.pyplot as plt\n",
        "import numpy as np\n",
        "import pandas as pd\n",
        "import requests\n",
        "from statsmodels.multivariate.factor_rotation import rotate_factors\n",
        "\n",
        "from xifa import GRM"
      ]
    },
    {
      "cell_type": "markdown",
      "metadata": {
        "pycharm": {
          "name": "#%% md\n"
        },
        "id": "hKMVGGTz3jW3"
      },
      "source": [
        "By default, `jax` uses single precision for floating points arithmetics. To enable double precision arithmetics, try"
      ]
    },
    {
      "cell_type": "code",
      "execution_count": 3,
      "metadata": {
        "execution": {
          "iopub.execute_input": "2022-01-03T03:03:02.163136Z",
          "iopub.status.busy": "2022-01-03T03:03:02.162787Z",
          "iopub.status.idle": "2022-01-03T03:03:02.166549Z",
          "shell.execute_reply": "2022-01-03T03:03:02.165723Z",
          "shell.execute_reply.started": "2022-01-03T03:03:02.163099Z"
        },
        "jupyter": {
          "outputs_hidden": false
        },
        "pycharm": {
          "name": "#%%\n"
        },
        "id": "N8JyWVP33jW3"
      },
      "outputs": [],
      "source": [
        "jax.config.update(\"jax_enable_x64\", True)"
      ]
    },
    {
      "cell_type": "markdown",
      "metadata": {
        "pycharm": {
          "name": "#%% md\n"
        },
        "id": "rtSwZTHs3jW4"
      },
      "source": [
        "## Data Preparation\n",
        "\n",
        "In the next step, we download the `ipip50` dataset, unzip it, and read it as a pandas dataframe."
      ]
    },
    {
      "cell_type": "code",
      "execution_count": 4,
      "metadata": {
        "execution": {
          "iopub.execute_input": "2022-01-03T03:03:02.168634Z",
          "iopub.status.busy": "2022-01-03T03:03:02.168145Z",
          "iopub.status.idle": "2022-01-03T03:03:04.463481Z",
          "shell.execute_reply": "2022-01-03T03:03:04.462630Z",
          "shell.execute_reply.started": "2022-01-03T03:03:02.168599Z"
        },
        "jupyter": {
          "outputs_hidden": false
        },
        "pycharm": {
          "name": "#%%\n"
        },
        "id": "ubk2DC2z3jW4"
      },
      "outputs": [],
      "source": [
        "def download_dataset(dataset_url,\n",
        "                     dataset_name):\n",
        "    req = requests.get(dataset_url, allow_redirects=True)\n",
        "    open(dataset_name + '.zip',\"wb\").write(req.content)\n",
        "    zipfile.ZipFile(dataset_name + '.zip').extractall()\n",
        "    os.remove(dataset_name+'.zip')\n",
        "\n",
        "dataset_url = \"http://openpsychometrics.org/_rawdata/BIG5.zip\"\n",
        "dataset_name = \"ipip50\"\n",
        "download_dataset(dataset_url, dataset_name)\n",
        "data = pd.read_csv(\"BIG5/data.csv\", sep=\"\\t\").iloc[:,-50:]"
      ]
    },
    {
      "cell_type": "markdown",
      "metadata": {
        "pycharm": {
          "name": "#%% md\n"
        },
        "id": "u5knjRgA3jW5"
      },
      "source": [
        "The dataset only includes one observation with missing values (which is coded by `0` so we need to replace it by `np.nan`). However, the observation didn't response any items. Hence, we delete it."
      ]
    },
    {
      "cell_type": "code",
      "execution_count": 5,
      "metadata": {
        "execution": {
          "iopub.execute_input": "2022-01-03T03:03:04.465121Z",
          "iopub.status.busy": "2022-01-03T03:03:04.464726Z",
          "iopub.status.idle": "2022-01-03T03:03:04.511983Z",
          "shell.execute_reply": "2022-01-03T03:03:04.511165Z",
          "shell.execute_reply.started": "2022-01-03T03:03:04.465072Z"
        },
        "jupyter": {
          "outputs_hidden": false
        },
        "pycharm": {
          "name": "#%%\n"
        },
        "id": "yyBBVJDB3jW6"
      },
      "outputs": [],
      "source": [
        "data = data.replace(0, np.nan)\n",
        "data = data.dropna()"
      ]
    },
    {
      "cell_type": "markdown",
      "metadata": {
        "pycharm": {
          "name": "#%% md\n"
        },
        "id": "LGFHYwCm3jW6"
      },
      "source": [
        "If missing data are presented, `xifa` uses the so-called full-information approach for estimation. Therefore, it is unnecessary to explicitly handle `np.nan`. The full-information estimation could still yield a consistent estimator if the assumption of missing at random (MAR) is satisfied ([Rubin, 1976](https://doi.org/10.2307/2335739)).\n",
        "\n",
        "`xifa` requires the ordered responses to be coded from `0` to `max_cats-1`, where `max_cats` is the maximal number of ordered categories. Because the original responses are coded from `1` to `max_cats`, we need to subtract all values by 1."
      ]
    },
    {
      "cell_type": "code",
      "execution_count": 6,
      "metadata": {
        "execution": {
          "iopub.execute_input": "2022-01-03T03:03:04.513618Z",
          "iopub.status.busy": "2022-01-03T03:03:04.513258Z",
          "iopub.status.idle": "2022-01-03T03:03:04.520202Z",
          "shell.execute_reply": "2022-01-03T03:03:04.519222Z",
          "shell.execute_reply.started": "2022-01-03T03:03:04.513571Z"
        },
        "jupyter": {
          "outputs_hidden": false
        },
        "pycharm": {
          "name": "#%%\n"
        },
        "id": "Rn7PnMU93jW6"
      },
      "outputs": [],
      "source": [
        "data = data - 1.0"
      ]
    },
    {
      "cell_type": "markdown",
      "metadata": {
        "pycharm": {
          "name": "#%% md\n"
        },
        "id": "fEIx5jxd3jW7"
      },
      "source": [
        "Note that `xifa` could handle items with different numbers of categories. In that case, just code item `i` from `0` to `n_cats_i-1`, where `n_cats_i` is the number of categories of item `i`.\n",
        "\n",
        "We then reverse the coding for the \"negative items\" and use the heat map of correlation matrix to check whether our reversing is correct."
      ]
    },
    {
      "cell_type": "code",
      "execution_count": 7,
      "metadata": {
        "execution": {
          "iopub.execute_input": "2022-01-03T03:03:04.522175Z",
          "iopub.status.busy": "2022-01-03T03:03:04.521720Z",
          "iopub.status.idle": "2022-01-03T03:03:04.760614Z",
          "shell.execute_reply": "2022-01-03T03:03:04.759760Z",
          "shell.execute_reply.started": "2022-01-03T03:03:04.522137Z"
        },
        "jupyter": {
          "outputs_hidden": false
        },
        "pycharm": {
          "name": "#%%\n"
        },
        "colab": {
          "base_uri": "https://localhost:8080/",
          "height": 425
        },
        "id": "HjIF7q6k3jW7",
        "outputId": "bb4cab9f-66b3-4109-d934-eb1baf195058"
      },
      "outputs": [
        {
          "output_type": "display_data",
          "data": {
            "text/plain": [
              "<Figure size 450x450 with 1 Axes>"
            ],
            "image/png": "[encoded data removed]"
          },
          "metadata": {
            "needs_background": "light"
          }
        }
      ],
      "source": [
        "negative_items = [\"E2\", \"E4\", \"E6\", \"E8\", \"E10\",\n",
        "                  \"N2\", \"N4\",\n",
        "                  \"A1\", \"A3\", \"A5\", \"A7\",\n",
        "                  \"C2\", \"C4\", \"C6\", \"C8\",\n",
        "                  \"O2\", \"O4\", \"O6\"]\n",
        "data[negative_items] = 4 - data[negative_items]\n",
        "\n",
        "plt.figure(figsize=(3, 3), dpi=150)\n",
        "plt.imshow(data.corr(),\n",
        "           cmap='viridis')\n",
        "plt.show()"
      ]
    },
    {
      "cell_type": "markdown",
      "metadata": {
        "pycharm": {
          "name": "#%% md\n"
        },
        "id": "9zT8uyHQ3jW8"
      },
      "source": [
        "## Exploratory IFA Implementation\n",
        "Now, we conduct exploratory IFA by using the `GRM` object imported from `xifa`. To initialize a `GRM` instance, a dataset (`data`) and a number of factors (`n_factors`) must be specified. The data must be a two dimensional array (`n_cases * n_items`) that can be transformed to `jax.numpy.array`."
      ]
    },
    {
      "cell_type": "code",
      "execution_count": 8,
      "metadata": {
        "execution": {
          "iopub.execute_input": "2022-01-03T03:03:04.763643Z",
          "iopub.status.busy": "2022-01-03T03:03:04.763081Z",
          "iopub.status.idle": "2022-01-03T03:03:13.313995Z",
          "shell.execute_reply": "2022-01-03T03:03:13.313159Z",
          "shell.execute_reply.started": "2022-01-03T03:03:04.763601Z"
        },
        "jupyter": {
          "outputs_hidden": false
        },
        "pycharm": {
          "name": "#%%\n"
        },
        "colab": {
          "base_uri": "https://localhost:8080/"
        },
        "id": "1LvDTus33jW8",
        "outputId": "8d0c3fc3-7217-4525-8736-301d135f7fef"
      },
      "outputs": [
        {
          "output_type": "stream",
          "name": "stdout",
          "text": [
            "A GRM Object is Initialized for Exploratory Analysis.\n",
            " + Number of Cases: 19718\n",
            " + Number of Items: 50\n",
            " + Number of Factors: 5\n",
            " + Number of Categories: 5\n"
          ]
        }
      ],
      "source": [
        "grm = GRM(data=data, \n",
        "          n_factors=5)"
      ]
    },
    {
      "cell_type": "markdown",
      "metadata": {
        "pycharm": {
          "name": "#%% md\n"
        },
        "id": "KFMDw5Ce3jW8"
      },
      "source": [
        "After initialization, by default, a summary for model will be printed. This can be turn off by setting `verbose=False`.\n",
        "\n",
        "The marginal maximum likelihood (MML) estimation can be implemented by the `fit()` method. `xifa` implements MML by a vectorized Metropolis-Hastings Robbins-Monro (MH-RM) algorithm. The algorithm includes two stages. The first stage updates the parameter estimate by a stochastic expectation-maximization (StEM) algorithm. The second stage conducts stochastic approximation (SA) to refine the estimate."
      ]
    },
    {
      "cell_type": "code",
      "execution_count": 9,
      "metadata": {
        "execution": {
          "iopub.execute_input": "2022-01-03T03:03:13.316000Z",
          "iopub.status.busy": "2022-01-03T03:03:13.315655Z",
          "iopub.status.idle": "2022-01-03T03:03:28.338507Z",
          "shell.execute_reply": "2022-01-03T03:03:28.337564Z",
          "shell.execute_reply.started": "2022-01-03T03:03:13.315964Z"
        },
        "jupyter": {
          "outputs_hidden": false
        },
        "pycharm": {
          "name": "#%%\n"
        },
        "colab": {
          "base_uri": "https://localhost:8080/",
          "height": 117,
          "referenced_widgets": [
            "b7fb2c9dab26487194f7b80fc5969366",
            "a3648e8079744abebb1c1abaa2a7f49e",
            "0072b5aa87b74ce889b9c718559c1085",
            "c43f8497150b4fae8ab2c0b6d1762a7a",
            "f09557986d374dc08dcec87f1d06e5e4",
            "05c2161f127a46f6adc32d59988440fa",
            "ffe26f28a12e45be807881a046dd36f1",
            "4c23d2f1237d43d395f624e3b575da06",
            "d1fabfc8c70b4ef8b97b38283fb431c1",
            "b6f23a9c86d54472a122bf61e2298c94",
            "f2fd30daefb14c9f95598cb29b9526f0",
            "929da28ece9c4087b247e614c60a490a",
            "681cb17a562f4a889bb7ccc0de533fd0",
            "b912cd103bdb47beb9fe3f4a9792822d",
            "4150d2fbf0984a918ae6027a06f9eb33",
            "3974a6178a5f4551a48ac36429200532",
            "06389d28e20f46fa861ca6cd2760a0e3",
            "e62f7317b2d54f759f2b97c01e2af85c",
            "99d53a8065db42e1bbceb3f8f73edb4b",
            "3cc4d0e1dd00405cb4dee92a39785cd5",
            "33b06c6f8cac4c6994b5d71b209cd9fb",
            "f3c9d3c5fcaa4a9282f8292270d5fd53"
          ]
        },
        "id": "E_z8Ka5o3jW9",
        "outputId": "74372644-751e-4372-9a7a-e9e6d994414b"
      },
      "outputs": [
        {
          "output_type": "stream",
          "name": "stdout",
          "text": [
            "Fitting Process is Started.\n"
          ]
        },
        {
          "output_type": "display_data",
          "data": {
            "text/plain": [
              "  0%|          | 0/200 [00:00<?, ?it/s]"
            ],
            "application/vnd.jupyter.widget-view+json": {
              "version_major": 2,
              "version_minor": 0,
              "model_id": "b7fb2c9dab26487194f7b80fc5969366"
            }
          },
          "metadata": {}
        },
        {
          "output_type": "display_data",
          "data": {
            "text/plain": [
              "  0%|          | 0/500 [00:00<?, ?it/s]"
            ],
            "application/vnd.jupyter.widget-view+json": {
              "version_major": 2,
              "version_minor": 0,
              "model_id": "929da28ece9c4087b247e614c60a490a"
            }
          },
          "metadata": {}
        },
        {
          "output_type": "stream",
          "name": "stdout",
          "text": [
            "Converged after 258 Iterations (35.72 sec).\n"
          ]
        }
      ],
      "source": [
        "grm.fit()"
      ]
    },
    {
      "cell_type": "markdown",
      "metadata": {
        "pycharm": {
          "name": "#%% md\n"
        },
        "id": "FiDj5l-u3jW9"
      },
      "source": [
        "In this example, CPU takes about 3-8 minutes to finish the optimization job. If any GPU is available, the job can be speed up. On Colab with GPU, the job takes about 30 seconds (depending on the GPU resource availability).\n"
      ]
    },
    {
      "cell_type": "markdown",
      "metadata": {
        "pycharm": {
          "name": "#%% md\n"
        },
        "id": "sRDWy7953jW9"
      },
      "source": [
        "The MML parameter estimate is stored in the `params` attribute. `params` is a dictionary with three keys: `intercept` for the intercept vector, `loading` for the factor loading matrix, and `corr` for the factor correlation matrix. For example, the estimated factor correlation matrix can be extracted by"
      ]
    },
    {
      "cell_type": "code",
      "execution_count": 10,
      "metadata": {
        "execution": {
          "iopub.execute_input": "2022-01-03T03:03:28.340420Z",
          "iopub.status.busy": "2022-01-03T03:03:28.339898Z",
          "iopub.status.idle": "2022-01-03T03:03:28.487257Z",
          "shell.execute_reply": "2022-01-03T03:03:28.486443Z",
          "shell.execute_reply.started": "2022-01-03T03:03:28.340355Z"
        },
        "jupyter": {
          "outputs_hidden": false
        },
        "pycharm": {
          "name": "#%%\n"
        },
        "colab": {
          "base_uri": "https://localhost:8080/"
        },
        "id": "Z2GXshNP3jW9",
        "outputId": "c13a40b8-baa6-4e9e-d336-83b71344c747"
      },
      "outputs": [
        {
          "output_type": "stream",
          "name": "stdout",
          "text": [
            "[[1. 0. 0. 0. 0.]\n",
            " [0. 1. 0. 0. 0.]\n",
            " [0. 0. 1. 0. 0.]\n",
            " [0. 0. 0. 1. 0.]\n",
            " [0. 0. 0. 0. 1.]]\n"
          ]
        }
      ],
      "source": [
        "print(np.round(grm.params[\"corr\"], 3))"
      ]
    },
    {
      "cell_type": "markdown",
      "metadata": {
        "pycharm": {
          "name": "#%% md\n"
        },
        "id": "2TNCcEIZ3jW-"
      },
      "source": [
        "The factor correlations are all zero because the exploratory analysis assumes orthogonal factors by convention. To capture the relationships among items and factors appropriately, we use `rotate_factors` in `statsmodels` to obtain a rotated loading matrix and factor correlations"
      ]
    },
    {
      "cell_type": "code",
      "execution_count": 11,
      "metadata": {
        "execution": {
          "iopub.execute_input": "2022-01-03T03:03:28.488896Z",
          "iopub.status.busy": "2022-01-03T03:03:28.488565Z",
          "iopub.status.idle": "2022-01-03T03:03:30.568300Z",
          "shell.execute_reply": "2022-01-03T03:03:30.567473Z",
          "shell.execute_reply.started": "2022-01-03T03:03:28.488859Z"
        },
        "jupyter": {
          "outputs_hidden": false
        },
        "pycharm": {
          "name": "#%%\n"
        },
        "colab": {
          "base_uri": "https://localhost:8080/"
        },
        "id": "LmnR4k-23jW-",
        "outputId": "f056f4ee-c06f-4128-e173-c9069265c710"
      },
      "outputs": [
        {
          "output_type": "stream",
          "name": "stdout",
          "text": [
            "Rotated Factor Loading Matrix: \n",
            " [[-0.02  0.15  0.05  0.13 -1.89]\n",
            " [-0.03 -0.05  0.14  0.29 -1.96]\n",
            " [ 0.15 -0.43 -0.24 -0.5  -2.08]\n",
            " [ 0.07  0.23  0.03 -0.1  -2.17]\n",
            " [-0.17 -0.32 -0.19  0.13 -2.44]\n",
            " [-0.54 -0.17  0.02 -0.01 -1.46]\n",
            " [ 0.04 -0.12  0.    0.03 -2.44]\n",
            " [-0.04  0.36  0.18  0.13 -1.49]\n",
            " [-0.27  0.31  0.07  0.15 -1.64]\n",
            " [ 0.06  0.2   0.04 -0.25 -1.96]\n",
            " [ 0.15 -0.33 -0.15  1.89  0.2 ]\n",
            " [ 0.12 -0.05 -0.23  1.17  0.16]\n",
            " [-0.05 -0.62 -0.28  1.64  0.37]\n",
            " [-0.15 -0.16  0.15  0.67  0.32]\n",
            " [ 0.22 -0.04  0.09  1.33  0.  ]\n",
            " [ 0.22 -0.25 -0.01  2.39  0.02]\n",
            " [-0.08  0.12  0.2   2.22 -0.15]\n",
            " [-0.03  0.15  0.22  2.5  -0.14]\n",
            " [-0.03  0.38 -0.17  2.27 -0.05]\n",
            " [-0.19 -0.1   0.27  1.59  0.59]\n",
            " [-0.07 -1.11  0.03 -0.23  0.07]\n",
            " [-0.14 -1.35  0.15 -0.15 -0.81]\n",
            " [ 0.22 -0.96 -0.36 -0.65  0.38]\n",
            " [ 0.   -2.7  -0.01  0.03  0.17]\n",
            " [ 0.02 -1.9   0.13 -0.14 -0.2 ]\n",
            " [ 0.2  -1.6  -0.07  0.32  0.12]\n",
            " [-0.01 -1.77  0.14 -0.32 -0.77]\n",
            " [-0.03 -1.51 -0.13 -0.1  -0.15]\n",
            " [-0.18 -2.16 -0.12  0.27 -0.1 ]\n",
            " [-0.19 -0.81 -0.26 -0.19 -0.69]\n",
            " [-0.32  0.11 -1.51 -0.06 -0.03]\n",
            " [ 0.26  0.2  -1.3  -0.09  0.09]\n",
            " [-0.69 -0.2  -0.94  0.11  0.22]\n",
            " [ 0.01  0.05 -1.43 -0.8  -0.09]\n",
            " [ 0.2  -0.01 -1.64  0.01 -0.22]\n",
            " [ 0.14  0.15 -1.51 -0.24  0.01]\n",
            " [-0.13 -0.02 -1.41  0.35  0.13]\n",
            " [-0.09 -0.26 -1.08 -0.41 -0.05]\n",
            " [ 0.06 -0.11 -1.66  0.27 -0.13]\n",
            " [-0.62 -0.07 -1.12  0.1   0.04]\n",
            " [-1.43  0.13  0.   -0.1   0.1 ]\n",
            " [-1.42 -0.03  0.12 -0.55  0.21]\n",
            " [-1.44 -0.24  0.28  0.25  0.14]\n",
            " [-1.14 -0.3   0.26 -0.34  0.25]\n",
            " [-1.69  0.15 -0.35 -0.03 -0.32]\n",
            " [-1.42 -0.24  0.17 -0.12 -0.04]\n",
            " [-1.28  0.06 -0.4  -0.24  0.01]\n",
            " [-1.32  0.26  0.15  0.17  0.13]\n",
            " [-0.86 -0.54 -0.06  0.31  0.52]\n",
            " [-2.03 -0.03 -0.01  0.03 -0.26]]\n",
            "Factor Correlation Matrix: \n",
            " [[1.   0.11 0.05 0.06 0.19]\n",
            " [0.11 1.   0.16 0.02 0.29]\n",
            " [0.05 0.16 1.   0.25 0.11]\n",
            " [0.06 0.02 0.25 1.   0.24]\n",
            " [0.19 0.29 0.11 0.24 1.  ]]\n"
          ]
        }
      ],
      "source": [
        "L, T  = rotate_factors(\n",
        "    grm.params[\"loading\"],\n",
        "    'quartimin', 0.5)\n",
        "print(\"Rotated Factor Loading Matrix: \\n\",\n",
        "      np.round(L, 2))\n",
        "print(\"Factor Correlation Matrix: \\n\",\n",
        "      np.round(T.T @ T, 2))"
      ]
    },
    {
      "cell_type": "markdown",
      "metadata": {
        "pycharm": {
          "name": "#%% md\n"
        },
        "id": "Ta1ic9Q-3jW-"
      },
      "source": [
        "The optimization history is stored in the `trace` attribute. To see how the complete data loss changes over iterations, we may use"
      ]
    },
    {
      "cell_type": "code",
      "execution_count": 12,
      "metadata": {
        "execution": {
          "iopub.execute_input": "2022-01-03T03:03:30.569906Z",
          "iopub.status.busy": "2022-01-03T03:03:30.569546Z",
          "iopub.status.idle": "2022-01-03T03:03:30.706448Z",
          "shell.execute_reply": "2022-01-03T03:03:30.705632Z",
          "shell.execute_reply.started": "2022-01-03T03:03:30.569866Z"
        },
        "jupyter": {
          "outputs_hidden": false
        },
        "pycharm": {
          "name": "#%%\n"
        },
        "colab": {
          "base_uri": "https://localhost:8080/",
          "height": 295
        },
        "id": "1anwhOAn3jW-",
        "outputId": "062236c0-5021-40fe-fdae-a7c6e4d7b6be"
      },
      "outputs": [
        {
          "output_type": "display_data",
          "data": {
            "text/plain": [
              "<Figure size 432x288 with 1 Axes>"
            ],
            "image/png": "[encoded data removed]"
          },
          "metadata": {
            "needs_background": "light"
          }
        }
      ],
      "source": [
        "plt.plot(grm.trace[\"closs\"])\n",
        "plt.ylabel('Complete Loss Values')\n",
        "plt.xlabel('Iteration')\n",
        "plt.title('MH-RM History')\n",
        "plt.show()"
      ]
    },
    {
      "cell_type": "markdown",
      "metadata": {
        "pycharm": {
          "name": "#%% md\n"
        },
        "id": "r-dgGLPb3jW-"
      },
      "source": [
        "## Confirmatory IFA Implementation\n",
        " Finally, we conduct a confirmatory analysis with GRM. For a confirmatory analysis, an additional argument `patterns` must be given. `patterns` is a `dict` (`python` dictionary) with two keys: `loading` and `corr`. `patterns[\"loading\"]` is also a `dict` to specify the relationships among items and factors. On the other hand, `patterns[\"corr\"]` is for the pattern of factor correlations. If either `loading` or `corr` is not included in `pattern`, its corresponding parameter matrix will be freely estimated.\n",
        "\n",
        " For example, we can set an independent cluster structure for the loading matrix in this `ipip50` example by"
      ]
    },
    {
      "cell_type": "code",
      "execution_count": 13,
      "metadata": {
        "execution": {
          "iopub.execute_input": "2022-01-03T03:03:30.708286Z",
          "iopub.status.busy": "2022-01-03T03:03:30.707967Z",
          "iopub.status.idle": "2022-01-03T03:03:30.716652Z",
          "shell.execute_reply": "2022-01-03T03:03:30.715471Z",
          "shell.execute_reply.started": "2022-01-03T03:03:30.708253Z"
        },
        "jupyter": {
          "outputs_hidden": false
        },
        "pycharm": {
          "name": "#%%\n"
        },
        "colab": {
          "base_uri": "https://localhost:8080/"
        },
        "id": "vqqfgqLk3jW_",
        "outputId": "1d881a6b-5548-440c-b2da-c8ba439ce949"
      },
      "outputs": [
        {
          "output_type": "stream",
          "name": "stdout",
          "text": [
            "{0: [0, 1, 2, 3, 4, 5, 6, 7, 8, 9], 1: [10, 11, 12, 13, 14, 15, 16, 17, 18, 19], 2: [20, 21, 22, 23, 24, 25, 26, 27, 28, 29], 3: [30, 31, 32, 33, 34, 35, 36, 37, 38, 39], 4: [40, 41, 42, 43, 44, 45, 46, 47, 48, 49]}\n"
          ]
        }
      ],
      "source": [
        "n_factors = 5\n",
        "n_items = 50\n",
        "items_per_factor = int(n_items / n_factors)\n",
        "patterns = {\n",
        "    \"loading\":{m: list(\n",
        "        range(m * items_per_factor, (m + 1) * items_per_factor)) for m in range(n_factors)}}\n",
        "print(patterns[\"loading\"])"
      ]
    },
    {
      "cell_type": "markdown",
      "metadata": {
        "pycharm": {
          "name": "#%% md\n"
        },
        "id": "v06kmKTW3jW_"
      },
      "source": [
        "We can see that `patterns[\"loading\"]` specifies the relationship among items and factors through their indices (starting form 0) by a `dict` (`key` for indices of factors and `value` for indices of corresponding items). Note that we didn't specify a `patterns[\"corr\"]` and hence all of the correlations among factors will be freely estimated.\n",
        "\n",
        "If `patterns` is specified when initializing `GRM`, the model will be treated as confirmatory."
      ]
    },
    {
      "cell_type": "code",
      "execution_count": 14,
      "metadata": {
        "execution": {
          "iopub.execute_input": "2022-01-03T03:03:30.718610Z",
          "iopub.status.busy": "2022-01-03T03:03:30.718151Z",
          "iopub.status.idle": "2022-01-03T03:03:31.380136Z",
          "shell.execute_reply": "2022-01-03T03:03:31.379093Z",
          "shell.execute_reply.started": "2022-01-03T03:03:30.718557Z"
        },
        "jupyter": {
          "outputs_hidden": false
        },
        "pycharm": {
          "name": "#%%\n"
        },
        "colab": {
          "base_uri": "https://localhost:8080/"
        },
        "id": "QFRnFBhW3jW_",
        "outputId": "ccd8025c-677e-45df-c66d-75138f178d74"
      },
      "outputs": [
        {
          "output_type": "stream",
          "name": "stdout",
          "text": [
            "A GRM Object is Initialized for Confirmatory Analysis.\n",
            " + Number of Cases: 19718\n",
            " + Number of Items: 50\n",
            " + Number of Factors: 5\n",
            " + Number of Categories: 5\n"
          ]
        }
      ],
      "source": [
        "grm = GRM(data=data, \n",
        "          n_factors=5,\n",
        "          patterns=patterns)"
      ]
    },
    {
      "cell_type": "markdown",
      "metadata": {
        "pycharm": {
          "name": "#%% md\n"
        },
        "id": "qqL15l6f3jW_"
      },
      "source": [
        "We can still use `fit()` method to calculate a parameter estimate, i.e.,"
      ]
    },
    {
      "cell_type": "code",
      "execution_count": 15,
      "metadata": {
        "execution": {
          "iopub.execute_input": "2022-01-03T03:03:31.382540Z",
          "iopub.status.busy": "2022-01-03T03:03:31.381361Z",
          "iopub.status.idle": "2022-01-03T03:03:47.023248Z",
          "shell.execute_reply": "2022-01-03T03:03:47.022186Z",
          "shell.execute_reply.started": "2022-01-03T03:03:31.382494Z"
        },
        "jupyter": {
          "outputs_hidden": false
        },
        "pycharm": {
          "name": "#%%\n"
        },
        "colab": {
          "base_uri": "https://localhost:8080/",
          "height": 117,
          "referenced_widgets": [
            "c610fabfa4b74f35996c48084c1fa0f0",
            "6d3fcea67d46451899c281f0e5148a05",
            "a00a929def39406ab16858b496727200",
            "b15327b264f64cda934f567ebb201970",
            "b7a05364221743cd91bfa55586995201",
            "bfe80420e13c45159e2631ce2028f6fe",
            "99816208c85248ba9c5e8a1c8ba9da1c",
            "607dc37154634e85bb519e5f1a3414af",
            "8cf16aeaac2844029f31d6c336658ffd",
            "c6a64f6a60e345f7b16dc56db90775e8",
            "5ad7100b7207451092b15b6f43195a43",
            "4737e3a2d372431ebcf22884f842d343",
            "a9efd06fcc1e48ea83a5c778f3220090",
            "3af0496ff56f481bae52a3938474a21d",
            "2d5f6ea3ba0b48c0a82c0a329f7ace4f",
            "f9c39937190b41f19654f360d752a84d",
            "0ed23f1a6be44b33a70d63aec53abf13",
            "30d5a1bd61154c499649f585fd5cbd3b",
            "4430373010dc4ed38185c5dae809a13f",
            "9c82612b382747d89b308b2e7fa91b70",
            "15ae04848ed34549a76b70fab1ab1a9a",
            "132f3b556c0f4afa84071f8a3a059d7f"
          ]
        },
        "id": "4aFBKhiv3jW_",
        "outputId": "5a58cb9e-73bd-4f5e-fd98-45481f29fcd7"
      },
      "outputs": [
        {
          "output_type": "stream",
          "name": "stdout",
          "text": [
            "Fitting Process is Started.\n"
          ]
        },
        {
          "output_type": "display_data",
          "data": {
            "text/plain": [
              "  0%|          | 0/200 [00:00<?, ?it/s]"
            ],
            "application/vnd.jupyter.widget-view+json": {
              "version_major": 2,
              "version_minor": 0,
              "model_id": "c610fabfa4b74f35996c48084c1fa0f0"
            }
          },
          "metadata": {}
        },
        {
          "output_type": "display_data",
          "data": {
            "text/plain": [
              "  0%|          | 0/500 [00:00<?, ?it/s]"
            ],
            "application/vnd.jupyter.widget-view+json": {
              "version_major": 2,
              "version_minor": 0,
              "model_id": "4737e3a2d372431ebcf22884f842d343"
            }
          },
          "metadata": {}
        },
        {
          "output_type": "stream",
          "name": "stdout",
          "text": [
            "Converged after 287 Iterations (27.10 sec).\n"
          ]
        }
      ],
      "source": [
        "grm.fit()"
      ]
    },
    {
      "cell_type": "markdown",
      "metadata": {
        "pycharm": {
          "name": "#%% md\n"
        },
        "id": "9j2M0c6e3jW_"
      },
      "source": [
        "The corresponding estimated loading matrix and correlation matrix are"
      ]
    },
    {
      "cell_type": "code",
      "execution_count": 16,
      "metadata": {
        "execution": {
          "iopub.execute_input": "2022-01-03T03:03:47.025170Z",
          "iopub.status.busy": "2022-01-03T03:03:47.024737Z",
          "iopub.status.idle": "2022-01-03T03:03:47.041311Z",
          "shell.execute_reply": "2022-01-03T03:03:47.039463Z",
          "shell.execute_reply.started": "2022-01-03T03:03:47.025127Z"
        },
        "jupyter": {
          "outputs_hidden": false
        },
        "pycharm": {
          "name": "#%%\n"
        },
        "colab": {
          "base_uri": "https://localhost:8080/"
        },
        "id": "LMi-xnhW3jW_",
        "outputId": "26ac1c1b-33d2-432a-b036-03d0d807c4df"
      },
      "outputs": [
        {
          "output_type": "stream",
          "name": "stdout",
          "text": [
            "Factor Loading Matrix: \n",
            " [[1.75 0.   0.   0.   0.  ]\n",
            " [1.87 0.   0.   0.   0.  ]\n",
            " [2.11 0.   0.   0.   0.  ]\n",
            " [2.09 0.   0.   0.   0.  ]\n",
            " [2.56 0.   0.   0.   0.  ]\n",
            " [1.6  0.   0.   0.   0.  ]\n",
            " [2.47 0.   0.   0.   0.  ]\n",
            " [1.26 0.   0.   0.   0.  ]\n",
            " [1.48 0.   0.   0.   0.  ]\n",
            " [1.95 0.   0.   0.   0.  ]\n",
            " [0.   1.85 0.   0.   0.  ]\n",
            " [0.   1.18 0.   0.   0.  ]\n",
            " [0.   1.46 0.   0.   0.  ]\n",
            " [0.   0.82 0.   0.   0.  ]\n",
            " [0.   1.34 0.   0.   0.  ]\n",
            " [0.   2.35 0.   0.   0.  ]\n",
            " [0.   2.22 0.   0.   0.  ]\n",
            " [0.   2.55 0.   0.   0.  ]\n",
            " [0.   2.07 0.   0.   0.  ]\n",
            " [0.   1.79 0.   0.   0.  ]\n",
            " [0.   0.   1.07 0.   0.  ]\n",
            " [0.   0.   1.6  0.   0.  ]\n",
            " [0.   0.   0.75 0.   0.  ]\n",
            " [0.   0.   2.4  0.   0.  ]\n",
            " [0.   0.   1.98 0.   0.  ]\n",
            " [0.   0.   1.33 0.   0.  ]\n",
            " [0.   0.   2.01 0.   0.  ]\n",
            " [0.   0.   1.59 0.   0.  ]\n",
            " [0.   0.   2.13 0.   0.  ]\n",
            " [0.   0.   1.12 0.   0.  ]\n",
            " [0.   0.   0.   1.49 0.  ]\n",
            " [0.   0.   0.   1.24 0.  ]\n",
            " [0.   0.   0.   0.86 0.  ]\n",
            " [0.   0.   0.   1.63 0.  ]\n",
            " [0.   0.   0.   1.62 0.  ]\n",
            " [0.   0.   0.   1.61 0.  ]\n",
            " [0.   0.   0.   1.18 0.  ]\n",
            " [0.   0.   0.   1.29 0.  ]\n",
            " [0.   0.   0.   1.49 0.  ]\n",
            " [0.   0.   0.   1.03 0.  ]\n",
            " [0.   0.   0.   0.   1.29]\n",
            " [0.   0.   0.   0.   1.37]\n",
            " [0.   0.   0.   0.   1.35]\n",
            " [0.   0.   0.   0.   1.12]\n",
            " [0.   0.   0.   0.   1.75]\n",
            " [0.   0.   0.   0.   1.53]\n",
            " [0.   0.   0.   0.   1.21]\n",
            " [0.   0.   0.   0.   1.07]\n",
            " [0.   0.   0.   0.   0.66]\n",
            " [0.   0.   0.   0.   2.18]]\n",
            "Factor Correlation Matrix: \n",
            " [[ 1.   -0.29  0.42  0.15  0.23]\n",
            " [-0.29  1.   -0.1  -0.33 -0.13]\n",
            " [ 0.42 -0.1   1.    0.21  0.18]\n",
            " [ 0.15 -0.33  0.21  1.    0.12]\n",
            " [ 0.23 -0.13  0.18  0.12  1.  ]]\n"
          ]
        }
      ],
      "source": [
        "print(\"Factor Loading Matrix: \\n\",\n",
        "      np.round(grm.params[\"loading\"], 2))\n",
        "print(\"Factor Correlation Matrix: \\n\",\n",
        "      np.round(grm.params[\"corr\"], 2))"
      ]
    },
    {
      "cell_type": "markdown",
      "source": [
        "The marginal likelihood could be calculated by `liglik` method. By default, the likelihood is approximated by Monte Carlo integration with 5000 points. Note that the calculation often results in memory problem. The use of `batch_size` can avoid such problem."
      ],
      "metadata": {
        "id": "VVE65vxe440w"
      }
    },
    {
      "cell_type": "code",
      "source": [
        "grm.loglik(batch_size = 1024)"
      ],
      "metadata": {
        "colab": {
          "base_uri": "https://localhost:8080/",
          "height": 53
        },
        "id": "-GfzF9Af44Rl",
        "outputId": "5eea303f-aa75-4e7c-bd70-794d40fe5dc8"
      },
      "execution_count": 17,
      "outputs": [
        {
          "output_type": "stream",
          "name": "stdout",
          "text": [
            "Log-Likelihood is Calculated (5000 Quadrature Points).\n"
          ]
        },
        {
          "output_type": "execute_result",
          "data": {
            "text/plain": [
              "DeviceArray(-65.75961911, dtype=float64)"
            ]
          },
          "metadata": {},
          "execution_count": 17
        }
      ]
    },
    {
      "cell_type": "markdown",
      "source": [
        "Finally, we can transform the original response pattern to factor scores by the `transform` method"
      ],
      "metadata": {
        "id": "3yMbT_h56MS9"
      }
    },
    {
      "cell_type": "code",
      "source": [
        "factor_score = grm.transform(data)\n",
        "print(factor_score[0:10,:])"
      ],
      "metadata": {
        "colab": {
          "base_uri": "https://localhost:8080/"
        },
        "id": "VZVq3EPE6cye",
        "outputId": "0cf4ecc9-a1c8-456a-d546-de1609d42dc5"
      },
      "execution_count": 18,
      "outputs": [
        {
          "output_type": "stream",
          "name": "stdout",
          "text": [
            "Data are Transformed to Factor Scores.\n",
            "+ Number of Chains: 100\n",
            "+ Number of Warmup Steps: 20\n",
            "+ Accept Rate: 0.213\n",
            "[[ 1.43865894 -2.51669187  1.03517932  1.81408326  0.7963962 ]\n",
            " [-0.64692851 -0.08663762 -0.54066909  1.01183926 -1.74299528]\n",
            " [ 0.59348831  1.98586912  1.06893832  1.98470757  1.22339792]\n",
            " [-0.66814404  1.48823763 -0.18781224 -1.03444646  0.22314054]\n",
            " [ 0.24404864 -0.04972265  1.30809542  0.03797903 -0.71373675]\n",
            " [-1.26858721 -0.36860663 -0.3657733  -0.24056667 -0.83033364]\n",
            " [ 2.02043315 -0.79083116  1.28413641 -0.46378773  0.29277101]\n",
            " [ 0.91206098 -1.93203476  0.12752641  1.37676237  0.74210258]\n",
            " [ 1.6949449   0.4296383   1.78414908  0.77433508  0.51157024]\n",
            " [-1.46449114  0.45393703 -0.59359526  0.6679546   0.16145993]]\n"
          ]
        }
      ]
    }
  ],
  "metadata": {
    "kernelspec": {
      "display_name": "Python 3",
      "language": "python",
      "name": "python3"
    },
    "language_info": {
      "codemirror_mode": {
        "name": "ipython",
        "version": 3
      },
      "file_extension": ".py",
      "mimetype": "text/x-python",
      "name": "python",
      "nbconvert_exporter": "python",
      "pygments_lexer": "ipython3",
      "version": "3.8.5"
    },
    "colab": {
      "name": "ipip50.ipynb",
      "provenance": []
    },
    "accelerator": "GPU",
    "gpuClass": "standard",
    "widgets": {
      "application/vnd.jupyter.widget-state+json": {
        "b7fb2c9dab26487194f7b80fc5969366": {
          "model_module": "@jupyter-widgets/controls",
          "model_name": "HBoxModel",
          "model_module_version": "1.5.0",
          "state": {
            "_dom_classes": [],
            "_model_module": "@jupyter-widgets/controls",
            "_model_module_version": "1.5.0",
            "_model_name": "HBoxModel",
            "_view_count": null,
            "_view_module": "@jupyter-widgets/controls",
            "_view_module_version": "1.5.0",
            "_view_name": "HBoxView",
            "box_style": "",
            "children": [
              "IPY_MODEL_a3648e8079744abebb1c1abaa2a7f49e",
              "IPY_MODEL_0072b5aa87b74ce889b9c718559c1085",
              "IPY_MODEL_c43f8497150b4fae8ab2c0b6d1762a7a"
            ],
            "layout": "IPY_MODEL_f09557986d374dc08dcec87f1d06e5e4"
          }
        },
        "a3648e8079744abebb1c1abaa2a7f49e": {
          "model_module": "@jupyter-widgets/controls",
          "model_name": "HTMLModel",
          "model_module_version": "1.5.0",
          "state": {
            "_dom_classes": [],
            "_model_module": "@jupyter-widgets/controls",
            "_model_module_version": "1.5.0",
            "_model_name": "HTMLModel",
            "_view_count": null,
            "_view_module": "@jupyter-widgets/controls",
            "_view_module_version": "1.5.0",
            "_view_name": "HTMLView",
            "description": "",
            "description_tooltip": null,
            "layout": "IPY_MODEL_05c2161f127a46f6adc32d59988440fa",
            "placeholder": "​",
            "style": "IPY_MODEL_ffe26f28a12e45be807881a046dd36f1",
            "value": "Stage 1: 100%"
          }
        },
        "0072b5aa87b74ce889b9c718559c1085": {
          "model_module": "@jupyter-widgets/controls",
          "model_name": "FloatProgressModel",
          "model_module_version": "1.5.0",
          "state": {
            "_dom_classes": [],
            "_model_module": "@jupyter-widgets/controls",
            "_model_module_version": "1.5.0",
            "_model_name": "FloatProgressModel",
            "_view_count": null,
            "_view_module": "@jupyter-widgets/controls",
            "_view_module_version": "1.5.0",
            "_view_name": "ProgressView",
            "bar_style": "success",
            "description": "",
            "description_tooltip": null,
            "layout": "IPY_MODEL_4c23d2f1237d43d395f624e3b575da06",
            "max": 200,
            "min": 0,
            "orientation": "horizontal",
            "style": "IPY_MODEL_d1fabfc8c70b4ef8b97b38283fb431c1",
            "value": 200
          }
        },
        "c43f8497150b4fae8ab2c0b6d1762a7a": {
          "model_module": "@jupyter-widgets/controls",
          "model_name": "HTMLModel",
          "model_module_version": "1.5.0",
          "state": {
            "_dom_classes": [],
            "_model_module": "@jupyter-widgets/controls",
            "_model_module_version": "1.5.0",
            "_model_name": "HTMLModel",
            "_view_count": null,
            "_view_module": "@jupyter-widgets/controls",
            "_view_module_version": "1.5.0",
            "_view_name": "HTMLView",
            "description": "",
            "description_tooltip": null,
            "layout": "IPY_MODEL_b6f23a9c86d54472a122bf61e2298c94",
            "placeholder": "​",
            "style": "IPY_MODEL_f2fd30daefb14c9f95598cb29b9526f0",
            "value": " 200/200 [00:37&lt;00:00, 13.26it/s, Accept Rate=0.22, Loss=66.36]"
          }
        },
        "f09557986d374dc08dcec87f1d06e5e4": {
          "model_module": "@jupyter-widgets/base",
          "model_name": "LayoutModel",
          "model_module_version": "1.2.0",
          "state": {
            "_model_module": "@jupyter-widgets/base",
            "_model_module_version": "1.2.0",
            "_model_name": "LayoutModel",
            "_view_count": null,
            "_view_module": "@jupyter-widgets/base",
            "_view_module_version": "1.2.0",
            "_view_name": "LayoutView",
            "align_content": null,
            "align_items": null,
            "align_self": null,
            "border": null,
            "bottom": null,
            "display": null,
            "flex": null,
            "flex_flow": null,
            "grid_area": null,
            "grid_auto_columns": null,
            "grid_auto_flow": null,
            "grid_auto_rows": null,
            "grid_column": null,
            "grid_gap": null,
            "grid_row": null,
            "grid_template_areas": null,
            "grid_template_columns": null,
            "grid_template_rows": null,
            "height": null,
            "justify_content": null,
            "justify_items": null,
            "left": null,
            "margin": null,
            "max_height": null,
            "max_width": null,
            "min_height": null,
            "min_width": null,
            "object_fit": null,
            "object_position": null,
            "order": null,
            "overflow": null,
            "overflow_x": null,
            "overflow_y": null,
            "padding": null,
            "right": null,
            "top": null,
            "visibility": null,
            "width": null
          }
        },
        "05c2161f127a46f6adc32d59988440fa": {
          "model_module": "@jupyter-widgets/base",
          "model_name": "LayoutModel",
          "model_module_version": "1.2.0",
          "state": {
            "_model_module": "@jupyter-widgets/base",
            "_model_module_version": "1.2.0",
            "_model_name": "LayoutModel",
            "_view_count": null,
            "_view_module": "@jupyter-widgets/base",
            "_view_module_version": "1.2.0",
            "_view_name": "LayoutView",
            "align_content": null,
            "align_items": null,
            "align_self": null,
            "border": null,
            "bottom": null,
            "display": null,
            "flex": null,
            "flex_flow": null,
            "grid_area": null,
            "grid_auto_columns": null,
            "grid_auto_flow": null,
            "grid_auto_rows": null,
            "grid_column": null,
            "grid_gap": null,
            "grid_row": null,
            "grid_template_areas": null,
            "grid_template_columns": null,
            "grid_template_rows": null,
            "height": null,
            "justify_content": null,
            "justify_items": null,
            "left": null,
            "margin": null,
            "max_height": null,
            "max_width": null,
            "min_height": null,
            "min_width": null,
            "object_fit": null,
            "object_position": null,
            "order": null,
            "overflow": null,
            "overflow_x": null,
            "overflow_y": null,
            "padding": null,
            "right": null,
            "top": null,
            "visibility": null,
            "width": null
          }
        },
        "ffe26f28a12e45be807881a046dd36f1": {
          "model_module": "@jupyter-widgets/controls",
          "model_name": "DescriptionStyleModel",
          "model_module_version": "1.5.0",
          "state": {
            "_model_module": "@jupyter-widgets/controls",
            "_model_module_version": "1.5.0",
            "_model_name": "DescriptionStyleModel",
            "_view_count": null,
            "_view_module": "@jupyter-widgets/base",
            "_view_module_version": "1.2.0",
            "_view_name": "StyleView",
            "description_width": ""
          }
        },
        "4c23d2f1237d43d395f624e3b575da06": {
          "model_module": "@jupyter-widgets/base",
          "model_name": "LayoutModel",
          "model_module_version": "1.2.0",
          "state": {
            "_model_module": "@jupyter-widgets/base",
            "_model_module_version": "1.2.0",
            "_model_name": "LayoutModel",
            "_view_count": null,
            "_view_module": "@jupyter-widgets/base",
            "_view_module_version": "1.2.0",
            "_view_name": "LayoutView",
            "align_content": null,
            "align_items": null,
            "align_self": null,
            "border": null,
            "bottom": null,
            "display": null,
            "flex": null,
            "flex_flow": null,
            "grid_area": null,
            "grid_auto_columns": null,
            "grid_auto_flow": null,
            "grid_auto_rows": null,
            "grid_column": null,
            "grid_gap": null,
            "grid_row": null,
            "grid_template_areas": null,
            "grid_template_columns": null,
            "grid_template_rows": null,
            "height": null,
            "justify_content": null,
            "justify_items": null,
            "left": null,
            "margin": null,
            "max_height": null,
            "max_width": null,
            "min_height": null,
            "min_width": null,
            "object_fit": null,
            "object_position": null,
            "order": null,
            "overflow": null,
            "overflow_x": null,
            "overflow_y": null,
            "padding": null,
            "right": null,
            "top": null,
            "visibility": null,
            "width": null
          }
        },
        "d1fabfc8c70b4ef8b97b38283fb431c1": {
          "model_module": "@jupyter-widgets/controls",
          "model_name": "ProgressStyleModel",
          "model_module_version": "1.5.0",
          "state": {
            "_model_module": "@jupyter-widgets/controls",
            "_model_module_version": "1.5.0",
            "_model_name": "ProgressStyleModel",
            "_view_count": null,
            "_view_module": "@jupyter-widgets/base",
            "_view_module_version": "1.2.0",
            "_view_name": "StyleView",
            "bar_color": null,
            "description_width": ""
          }
        },
        "b6f23a9c86d54472a122bf61e2298c94": {
          "model_module": "@jupyter-widgets/base",
          "model_name": "LayoutModel",
          "model_module_version": "1.2.0",
          "state": {
            "_model_module": "@jupyter-widgets/base",
            "_model_module_version": "1.2.0",
            "_model_name": "LayoutModel",
            "_view_count": null,
            "_view_module": "@jupyter-widgets/base",
            "_view_module_version": "1.2.0",
            "_view_name": "LayoutView",
            "align_content": null,
            "align_items": null,
            "align_self": null,
            "border": null,
            "bottom": null,
            "display": null,
            "flex": null,
            "flex_flow": null,
            "grid_area": null,
            "grid_auto_columns": null,
            "grid_auto_flow": null,
            "grid_auto_rows": null,
            "grid_column": null,
            "grid_gap": null,
            "grid_row": null,
            "grid_template_areas": null,
            "grid_template_columns": null,
            "grid_template_rows": null,
            "height": null,
            "justify_content": null,
            "justify_items": null,
            "left": null,
            "margin": null,
            "max_height": null,
            "max_width": null,
            "min_height": null,
            "min_width": null,
            "object_fit": null,
            "object_position": null,
            "order": null,
            "overflow": null,
            "overflow_x": null,
            "overflow_y": null,
            "padding": null,
            "right": null,
            "top": null,
            "visibility": null,
            "width": null
          }
        },
        "f2fd30daefb14c9f95598cb29b9526f0": {
          "model_module": "@jupyter-widgets/controls",
          "model_name": "DescriptionStyleModel",
          "model_module_version": "1.5.0",
          "state": {
            "_model_module": "@jupyter-widgets/controls",
            "_model_module_version": "1.5.0",
            "_model_name": "DescriptionStyleModel",
            "_view_count": null,
            "_view_module": "@jupyter-widgets/base",
            "_view_module_version": "1.2.0",
            "_view_name": "StyleView",
            "description_width": ""
          }
        },
        "929da28ece9c4087b247e614c60a490a": {
          "model_module": "@jupyter-widgets/controls",
          "model_name": "HBoxModel",
          "model_module_version": "1.5.0",
          "state": {
            "_dom_classes": [],
            "_model_module": "@jupyter-widgets/controls",
            "_model_module_version": "1.5.0",
            "_model_name": "HBoxModel",
            "_view_count": null,
            "_view_module": "@jupyter-widgets/controls",
            "_view_module_version": "1.5.0",
            "_view_name": "HBoxView",
            "box_style": "",
            "children": [
              "IPY_MODEL_681cb17a562f4a889bb7ccc0de533fd0",
              "IPY_MODEL_b912cd103bdb47beb9fe3f4a9792822d",
              "IPY_MODEL_4150d2fbf0984a918ae6027a06f9eb33"
            ],
            "layout": "IPY_MODEL_3974a6178a5f4551a48ac36429200532"
          }
        },
        "681cb17a562f4a889bb7ccc0de533fd0": {
          "model_module": "@jupyter-widgets/controls",
          "model_name": "HTMLModel",
          "model_module_version": "1.5.0",
          "state": {
            "_dom_classes": [],
            "_model_module": "@jupyter-widgets/controls",
            "_model_module_version": "1.5.0",
            "_model_name": "HTMLModel",
            "_view_count": null,
            "_view_module": "@jupyter-widgets/controls",
            "_view_module_version": "1.5.0",
            "_view_name": "HTMLView",
            "description": "",
            "description_tooltip": null,
            "layout": "IPY_MODEL_06389d28e20f46fa861ca6cd2760a0e3",
            "placeholder": "​",
            "style": "IPY_MODEL_e62f7317b2d54f759f2b97c01e2af85c",
            "value": "Stage 2:  12%"
          }
        },
        "b912cd103bdb47beb9fe3f4a9792822d": {
          "model_module": "@jupyter-widgets/controls",
          "model_name": "FloatProgressModel",
          "model_module_version": "1.5.0",
          "state": {
            "_dom_classes": [],
            "_model_module": "@jupyter-widgets/controls",
            "_model_module_version": "1.5.0",
            "_model_name": "FloatProgressModel",
            "_view_count": null,
            "_view_module": "@jupyter-widgets/controls",
            "_view_module_version": "1.5.0",
            "_view_name": "ProgressView",
            "bar_style": "danger",
            "description": "",
            "description_tooltip": null,
            "layout": "IPY_MODEL_99d53a8065db42e1bbceb3f8f73edb4b",
            "max": 500,
            "min": 0,
            "orientation": "horizontal",
            "style": "IPY_MODEL_3cc4d0e1dd00405cb4dee92a39785cd5",
            "value": 58
          }
        },
        "4150d2fbf0984a918ae6027a06f9eb33": {
          "model_module": "@jupyter-widgets/controls",
          "model_name": "HTMLModel",
          "model_module_version": "1.5.0",
          "state": {
            "_dom_classes": [],
            "_model_module": "@jupyter-widgets/controls",
            "_model_module_version": "1.5.0",
            "_model_name": "HTMLModel",
            "_view_count": null,
            "_view_module": "@jupyter-widgets/controls",
            "_view_module_version": "1.5.0",
            "_view_name": "HTMLView",
            "description": "",
            "description_tooltip": null,
            "layout": "IPY_MODEL_33b06c6f8cac4c6994b5d71b209cd9fb",
            "placeholder": "​",
            "style": "IPY_MODEL_f3c9d3c5fcaa4a9282f8292270d5fd53",
            "value": " 58/500 [00:37&lt;00:36, 12.12it/s, Accept Rate=0.24, Loss=66.36]"
          }
        },
        "3974a6178a5f4551a48ac36429200532": {
          "model_module": "@jupyter-widgets/base",
          "model_name": "LayoutModel",
          "model_module_version": "1.2.0",
          "state": {
            "_model_module": "@jupyter-widgets/base",
            "_model_module_version": "1.2.0",
            "_model_name": "LayoutModel",
            "_view_count": null,
            "_view_module": "@jupyter-widgets/base",
            "_view_module_version": "1.2.0",
            "_view_name": "LayoutView",
            "align_content": null,
            "align_items": null,
            "align_self": null,
            "border": null,
            "bottom": null,
            "display": null,
            "flex": null,
            "flex_flow": null,
            "grid_area": null,
            "grid_auto_columns": null,
            "grid_auto_flow": null,
            "grid_auto_rows": null,
            "grid_column": null,
            "grid_gap": null,
            "grid_row": null,
            "grid_template_areas": null,
            "grid_template_columns": null,
            "grid_template_rows": null,
            "height": null,
            "justify_content": null,
            "justify_items": null,
            "left": null,
            "margin": null,
            "max_height": null,
            "max_width": null,
            "min_height": null,
            "min_width": null,
            "object_fit": null,
            "object_position": null,
            "order": null,
            "overflow": null,
            "overflow_x": null,
            "overflow_y": null,
            "padding": null,
            "right": null,
            "top": null,
            "visibility": null,
            "width": null
          }
        },
        "06389d28e20f46fa861ca6cd2760a0e3": {
          "model_module": "@jupyter-widgets/base",
          "model_name": "LayoutModel",
          "model_module_version": "1.2.0",
          "state": {
            "_model_module": "@jupyter-widgets/base",
            "_model_module_version": "1.2.0",
            "_model_name": "LayoutModel",
            "_view_count": null,
            "_view_module": "@jupyter-widgets/base",
            "_view_module_version": "1.2.0",
            "_view_name": "LayoutView",
            "align_content": null,
            "align_items": null,
            "align_self": null,
            "border": null,
            "bottom": null,
            "display": null,
            "flex": null,
            "flex_flow": null,
            "grid_area": null,
            "grid_auto_columns": null,
            "grid_auto_flow": null,
            "grid_auto_rows": null,
            "grid_column": null,
            "grid_gap": null,
            "grid_row": null,
            "grid_template_areas": null,
            "grid_template_columns": null,
            "grid_template_rows": null,
            "height": null,
            "justify_content": null,
            "justify_items": null,
            "left": null,
            "margin": null,
            "max_height": null,
            "max_width": null,
            "min_height": null,
            "min_width": null,
            "object_fit": null,
            "object_position": null,
            "order": null,
            "overflow": null,
            "overflow_x": null,
            "overflow_y": null,
            "padding": null,
            "right": null,
            "top": null,
            "visibility": null,
            "width": null
          }
        },
        "e62f7317b2d54f759f2b97c01e2af85c": {
          "model_module": "@jupyter-widgets/controls",
          "model_name": "DescriptionStyleModel",
          "model_module_version": "1.5.0",
          "state": {
            "_model_module": "@jupyter-widgets/controls",
            "_model_module_version": "1.5.0",
            "_model_name": "DescriptionStyleModel",
            "_view_count": null,
            "_view_module": "@jupyter-widgets/base",
            "_view_module_version": "1.2.0",
            "_view_name": "StyleView",
            "description_width": ""
          }
        },
        "99d53a8065db42e1bbceb3f8f73edb4b": {
          "model_module": "@jupyter-widgets/base",
          "model_name": "LayoutModel",
          "model_module_version": "1.2.0",
          "state": {
            "_model_module": "@jupyter-widgets/base",
            "_model_module_version": "1.2.0",
            "_model_name": "LayoutModel",
            "_view_count": null,
            "_view_module": "@jupyter-widgets/base",
            "_view_module_version": "1.2.0",
            "_view_name": "LayoutView",
            "align_content": null,
            "align_items": null,
            "align_self": null,
            "border": null,
            "bottom": null,
            "display": null,
            "flex": null,
            "flex_flow": null,
            "grid_area": null,
            "grid_auto_columns": null,
            "grid_auto_flow": null,
            "grid_auto_rows": null,
            "grid_column": null,
            "grid_gap": null,
            "grid_row": null,
            "grid_template_areas": null,
            "grid_template_columns": null,
            "grid_template_rows": null,
            "height": null,
            "justify_content": null,
            "justify_items": null,
            "left": null,
            "margin": null,
            "max_height": null,
            "max_width": null,
            "min_height": null,
            "min_width": null,
            "object_fit": null,
            "object_position": null,
            "order": null,
            "overflow": null,
            "overflow_x": null,
            "overflow_y": null,
            "padding": null,
            "right": null,
            "top": null,
            "visibility": null,
            "width": null
          }
        },
        "3cc4d0e1dd00405cb4dee92a39785cd5": {
          "model_module": "@jupyter-widgets/controls",
          "model_name": "ProgressStyleModel",
          "model_module_version": "1.5.0",
          "state": {
            "_model_module": "@jupyter-widgets/controls",
            "_model_module_version": "1.5.0",
            "_model_name": "ProgressStyleModel",
            "_view_count": null,
            "_view_module": "@jupyter-widgets/base",
            "_view_module_version": "1.2.0",
            "_view_name": "StyleView",
            "bar_color": null,
            "description_width": ""
          }
        },
        "33b06c6f8cac4c6994b5d71b209cd9fb": {
          "model_module": "@jupyter-widgets/base",
          "model_name": "LayoutModel",
          "model_module_version": "1.2.0",
          "state": {
            "_model_module": "@jupyter-widgets/base",
            "_model_module_version": "1.2.0",
            "_model_name": "LayoutModel",
            "_view_count": null,
            "_view_module": "@jupyter-widgets/base",
            "_view_module_version": "1.2.0",
            "_view_name": "LayoutView",
            "align_content": null,
            "align_items": null,
            "align_self": null,
            "border": null,
            "bottom": null,
            "display": null,
            "flex": null,
            "flex_flow": null,
            "grid_area": null,
            "grid_auto_columns": null,
            "grid_auto_flow": null,
            "grid_auto_rows": null,
            "grid_column": null,
            "grid_gap": null,
            "grid_row": null,
            "grid_template_areas": null,
            "grid_template_columns": null,
            "grid_template_rows": null,
            "height": null,
            "justify_content": null,
            "justify_items": null,
            "left": null,
            "margin": null,
            "max_height": null,
            "max_width": null,
            "min_height": null,
            "min_width": null,
            "object_fit": null,
            "object_position": null,
            "order": null,
            "overflow": null,
            "overflow_x": null,
            "overflow_y": null,
            "padding": null,
            "right": null,
            "top": null,
            "visibility": null,
            "width": null
          }
        },
        "f3c9d3c5fcaa4a9282f8292270d5fd53": {
          "model_module": "@jupyter-widgets/controls",
          "model_name": "DescriptionStyleModel",
          "model_module_version": "1.5.0",
          "state": {
            "_model_module": "@jupyter-widgets/controls",
            "_model_module_version": "1.5.0",
            "_model_name": "DescriptionStyleModel",
            "_view_count": null,
            "_view_module": "@jupyter-widgets/base",
            "_view_module_version": "1.2.0",
            "_view_name": "StyleView",
            "description_width": ""
          }
        },
        "c610fabfa4b74f35996c48084c1fa0f0": {
          "model_module": "@jupyter-widgets/controls",
          "model_name": "HBoxModel",
          "model_module_version": "1.5.0",
          "state": {
            "_dom_classes": [],
            "_model_module": "@jupyter-widgets/controls",
            "_model_module_version": "1.5.0",
            "_model_name": "HBoxModel",
            "_view_count": null,
            "_view_module": "@jupyter-widgets/controls",
            "_view_module_version": "1.5.0",
            "_view_name": "HBoxView",
            "box_style": "",
            "children": [
              "IPY_MODEL_6d3fcea67d46451899c281f0e5148a05",
              "IPY_MODEL_a00a929def39406ab16858b496727200",
              "IPY_MODEL_b15327b264f64cda934f567ebb201970"
            ],
            "layout": "IPY_MODEL_b7a05364221743cd91bfa55586995201"
          }
        },
        "6d3fcea67d46451899c281f0e5148a05": {
          "model_module": "@jupyter-widgets/controls",
          "model_name": "HTMLModel",
          "model_module_version": "1.5.0",
          "state": {
            "_dom_classes": [],
            "_model_module": "@jupyter-widgets/controls",
            "_model_module_version": "1.5.0",
            "_model_name": "HTMLModel",
            "_view_count": null,
            "_view_module": "@jupyter-widgets/controls",
            "_view_module_version": "1.5.0",
            "_view_name": "HTMLView",
            "description": "",
            "description_tooltip": null,
            "layout": "IPY_MODEL_bfe80420e13c45159e2631ce2028f6fe",
            "placeholder": "​",
            "style": "IPY_MODEL_99816208c85248ba9c5e8a1c8ba9da1c",
            "value": "Stage 1: 100%"
          }
        },
        "a00a929def39406ab16858b496727200": {
          "model_module": "@jupyter-widgets/controls",
          "model_name": "FloatProgressModel",
          "model_module_version": "1.5.0",
          "state": {
            "_dom_classes": [],
            "_model_module": "@jupyter-widgets/controls",
            "_model_module_version": "1.5.0",
            "_model_name": "FloatProgressModel",
            "_view_count": null,
            "_view_module": "@jupyter-widgets/controls",
            "_view_module_version": "1.5.0",
            "_view_name": "ProgressView",
            "bar_style": "",
            "description": "",
            "description_tooltip": null,
            "layout": "IPY_MODEL_607dc37154634e85bb519e5f1a3414af",
            "max": 200,
            "min": 0,
            "orientation": "horizontal",
            "style": "IPY_MODEL_8cf16aeaac2844029f31d6c336658ffd",
            "value": 200
          }
        },
        "b15327b264f64cda934f567ebb201970": {
          "model_module": "@jupyter-widgets/controls",
          "model_name": "HTMLModel",
          "model_module_version": "1.5.0",
          "state": {
            "_dom_classes": [],
            "_model_module": "@jupyter-widgets/controls",
            "_model_module_version": "1.5.0",
            "_model_name": "HTMLModel",
            "_view_count": null,
            "_view_module": "@jupyter-widgets/controls",
            "_view_module_version": "1.5.0",
            "_view_name": "HTMLView",
            "description": "",
            "description_tooltip": null,
            "layout": "IPY_MODEL_c6a64f6a60e345f7b16dc56db90775e8",
            "placeholder": "​",
            "style": "IPY_MODEL_5ad7100b7207451092b15b6f43195a43",
            "value": " 200/200 [00:33&lt;00:00, 13.35it/s, Accept Rate=0.22999999, Loss=67.44]"
          }
        },
        "b7a05364221743cd91bfa55586995201": {
          "model_module": "@jupyter-widgets/base",
          "model_name": "LayoutModel",
          "model_module_version": "1.2.0",
          "state": {
            "_model_module": "@jupyter-widgets/base",
            "_model_module_version": "1.2.0",
            "_model_name": "LayoutModel",
            "_view_count": null,
            "_view_module": "@jupyter-widgets/base",
            "_view_module_version": "1.2.0",
            "_view_name": "LayoutView",
            "align_content": null,
            "align_items": null,
            "align_self": null,
            "border": null,
            "bottom": null,
            "display": null,
            "flex": null,
            "flex_flow": null,
            "grid_area": null,
            "grid_auto_columns": null,
            "grid_auto_flow": null,
            "grid_auto_rows": null,
            "grid_column": null,
            "grid_gap": null,
            "grid_row": null,
            "grid_template_areas": null,
            "grid_template_columns": null,
            "grid_template_rows": null,
            "height": null,
            "justify_content": null,
            "justify_items": null,
            "left": null,
            "margin": null,
            "max_height": null,
            "max_width": null,
            "min_height": null,
            "min_width": null,
            "object_fit": null,
            "object_position": null,
            "order": null,
            "overflow": null,
            "overflow_x": null,
            "overflow_y": null,
            "padding": null,
            "right": null,
            "top": null,
            "visibility": null,
            "width": null
          }
        },
        "bfe80420e13c45159e2631ce2028f6fe": {
          "model_module": "@jupyter-widgets/base",
          "model_name": "LayoutModel",
          "model_module_version": "1.2.0",
          "state": {
            "_model_module": "@jupyter-widgets/base",
            "_model_module_version": "1.2.0",
            "_model_name": "LayoutModel",
            "_view_count": null,
            "_view_module": "@jupyter-widgets/base",
            "_view_module_version": "1.2.0",
            "_view_name": "LayoutView",
            "align_content": null,
            "align_items": null,
            "align_self": null,
            "border": null,
            "bottom": null,
            "display": null,
            "flex": null,
            "flex_flow": null,
            "grid_area": null,
            "grid_auto_columns": null,
            "grid_auto_flow": null,
            "grid_auto_rows": null,
            "grid_column": null,
            "grid_gap": null,
            "grid_row": null,
            "grid_template_areas": null,
            "grid_template_columns": null,
            "grid_template_rows": null,
            "height": null,
            "justify_content": null,
            "justify_items": null,
            "left": null,
            "margin": null,
            "max_height": null,
            "max_width": null,
            "min_height": null,
            "min_width": null,
            "object_fit": null,
            "object_position": null,
            "order": null,
            "overflow": null,
            "overflow_x": null,
            "overflow_y": null,
            "padding": null,
            "right": null,
            "top": null,
            "visibility": null,
            "width": null
          }
        },
        "99816208c85248ba9c5e8a1c8ba9da1c": {
          "model_module": "@jupyter-widgets/controls",
          "model_name": "DescriptionStyleModel",
          "model_module_version": "1.5.0",
          "state": {
            "_model_module": "@jupyter-widgets/controls",
            "_model_module_version": "1.5.0",
            "_model_name": "DescriptionStyleModel",
            "_view_count": null,
            "_view_module": "@jupyter-widgets/base",
            "_view_module_version": "1.2.0",
            "_view_name": "StyleView",
            "description_width": ""
          }
        },
        "607dc37154634e85bb519e5f1a3414af": {
          "model_module": "@jupyter-widgets/base",
          "model_name": "LayoutModel",
          "model_module_version": "1.2.0",
          "state": {
            "_model_module": "@jupyter-widgets/base",
            "_model_module_version": "1.2.0",
            "_model_name": "LayoutModel",
            "_view_count": null,
            "_view_module": "@jupyter-widgets/base",
            "_view_module_version": "1.2.0",
            "_view_name": "LayoutView",
            "align_content": null,
            "align_items": null,
            "align_self": null,
            "border": null,
            "bottom": null,
            "display": null,
            "flex": null,
            "flex_flow": null,
            "grid_area": null,
            "grid_auto_columns": null,
            "grid_auto_flow": null,
            "grid_auto_rows": null,
            "grid_column": null,
            "grid_gap": null,
            "grid_row": null,
            "grid_template_areas": null,
            "grid_template_columns": null,
            "grid_template_rows": null,
            "height": null,
            "justify_content": null,
            "justify_items": null,
            "left": null,
            "margin": null,
            "max_height": null,
            "max_width": null,
            "min_height": null,
            "min_width": null,
            "object_fit": null,
            "object_position": null,
            "order": null,
            "overflow": null,
            "overflow_x": null,
            "overflow_y": null,
            "padding": null,
            "right": null,
            "top": null,
            "visibility": null,
            "width": null
          }
        },
        "8cf16aeaac2844029f31d6c336658ffd": {
          "model_module": "@jupyter-widgets/controls",
          "model_name": "ProgressStyleModel",
          "model_module_version": "1.5.0",
          "state": {
            "_model_module": "@jupyter-widgets/controls",
            "_model_module_version": "1.5.0",
            "_model_name": "ProgressStyleModel",
            "_view_count": null,
            "_view_module": "@jupyter-widgets/base",
            "_view_module_version": "1.2.0",
            "_view_name": "StyleView",
            "bar_color": null,
            "description_width": ""
          }
        },
        "c6a64f6a60e345f7b16dc56db90775e8": {
          "model_module": "@jupyter-widgets/base",
          "model_name": "LayoutModel",
          "model_module_version": "1.2.0",
          "state": {
            "_model_module": "@jupyter-widgets/base",
            "_model_module_version": "1.2.0",
            "_model_name": "LayoutModel",
            "_view_count": null,
            "_view_module": "@jupyter-widgets/base",
            "_view_module_version": "1.2.0",
            "_view_name": "LayoutView",
            "align_content": null,
            "align_items": null,
            "align_self": null,
            "border": null,
            "bottom": null,
            "display": null,
            "flex": null,
            "flex_flow": null,
            "grid_area": null,
            "grid_auto_columns": null,
            "grid_auto_flow": null,
            "grid_auto_rows": null,
            "grid_column": null,
            "grid_gap": null,
            "grid_row": null,
            "grid_template_areas": null,
            "grid_template_columns": null,
            "grid_template_rows": null,
            "height": null,
            "justify_content": null,
            "justify_items": null,
            "left": null,
            "margin": null,
            "max_height": null,
            "max_width": null,
            "min_height": null,
            "min_width": null,
            "object_fit": null,
            "object_position": null,
            "order": null,
            "overflow": null,
            "overflow_x": null,
            "overflow_y": null,
            "padding": null,
            "right": null,
            "top": null,
            "visibility": null,
            "width": null
          }
        },
        "5ad7100b7207451092b15b6f43195a43": {
          "model_module": "@jupyter-widgets/controls",
          "model_name": "DescriptionStyleModel",
          "model_module_version": "1.5.0",
          "state": {
            "_model_module": "@jupyter-widgets/controls",
            "_model_module_version": "1.5.0",
            "_model_name": "DescriptionStyleModel",
            "_view_count": null,
            "_view_module": "@jupyter-widgets/base",
            "_view_module_version": "1.2.0",
            "_view_name": "StyleView",
            "description_width": ""
          }
        },
        "4737e3a2d372431ebcf22884f842d343": {
          "model_module": "@jupyter-widgets/controls",
          "model_name": "HBoxModel",
          "model_module_version": "1.5.0",
          "state": {
            "_dom_classes": [],
            "_model_module": "@jupyter-widgets/controls",
            "_model_module_version": "1.5.0",
            "_model_name": "HBoxModel",
            "_view_count": null,
            "_view_module": "@jupyter-widgets/controls",
            "_view_module_version": "1.5.0",
            "_view_name": "HBoxView",
            "box_style": "",
            "children": [
              "IPY_MODEL_a9efd06fcc1e48ea83a5c778f3220090",
              "IPY_MODEL_3af0496ff56f481bae52a3938474a21d",
              "IPY_MODEL_2d5f6ea3ba0b48c0a82c0a329f7ace4f"
            ],
            "layout": "IPY_MODEL_f9c39937190b41f19654f360d752a84d"
          }
        },
        "a9efd06fcc1e48ea83a5c778f3220090": {
          "model_module": "@jupyter-widgets/controls",
          "model_name": "HTMLModel",
          "model_module_version": "1.5.0",
          "state": {
            "_dom_classes": [],
            "_model_module": "@jupyter-widgets/controls",
            "_model_module_version": "1.5.0",
            "_model_name": "HTMLModel",
            "_view_count": null,
            "_view_module": "@jupyter-widgets/controls",
            "_view_module_version": "1.5.0",
            "_view_name": "HTMLView",
            "description": "",
            "description_tooltip": null,
            "layout": "IPY_MODEL_0ed23f1a6be44b33a70d63aec53abf13",
            "placeholder": "​",
            "style": "IPY_MODEL_30d5a1bd61154c499649f585fd5cbd3b",
            "value": "Stage 2:  17%"
          }
        },
        "3af0496ff56f481bae52a3938474a21d": {
          "model_module": "@jupyter-widgets/controls",
          "model_name": "FloatProgressModel",
          "model_module_version": "1.5.0",
          "state": {
            "_dom_classes": [],
            "_model_module": "@jupyter-widgets/controls",
            "_model_module_version": "1.5.0",
            "_model_name": "FloatProgressModel",
            "_view_count": null,
            "_view_module": "@jupyter-widgets/controls",
            "_view_module_version": "1.5.0",
            "_view_name": "ProgressView",
            "bar_style": "",
            "description": "",
            "description_tooltip": null,
            "layout": "IPY_MODEL_4430373010dc4ed38185c5dae809a13f",
            "max": 500,
            "min": 0,
            "orientation": "horizontal",
            "style": "IPY_MODEL_9c82612b382747d89b308b2e7fa91b70",
            "value": 87
          }
        },
        "2d5f6ea3ba0b48c0a82c0a329f7ace4f": {
          "model_module": "@jupyter-widgets/controls",
          "model_name": "HTMLModel",
          "model_module_version": "1.5.0",
          "state": {
            "_dom_classes": [],
            "_model_module": "@jupyter-widgets/controls",
            "_model_module_version": "1.5.0",
            "_model_name": "HTMLModel",
            "_view_count": null,
            "_view_module": "@jupyter-widgets/controls",
            "_view_module_version": "1.5.0",
            "_view_name": "HTMLView",
            "description": "",
            "description_tooltip": null,
            "layout": "IPY_MODEL_15ae04848ed34549a76b70fab1ab1a9a",
            "placeholder": "​",
            "style": "IPY_MODEL_132f3b556c0f4afa84071f8a3a059d7f",
            "value": " 87/500 [00:43&lt;00:34, 12.02it/s, Accept Rate=0.22, Loss=67.47]"
          }
        },
        "f9c39937190b41f19654f360d752a84d": {
          "model_module": "@jupyter-widgets/base",
          "model_name": "LayoutModel",
          "model_module_version": "1.2.0",
          "state": {
            "_model_module": "@jupyter-widgets/base",
            "_model_module_version": "1.2.0",
            "_model_name": "LayoutModel",
            "_view_count": null,
            "_view_module": "@jupyter-widgets/base",
            "_view_module_version": "1.2.0",
            "_view_name": "LayoutView",
            "align_content": null,
            "align_items": null,
            "align_self": null,
            "border": null,
            "bottom": null,
            "display": null,
            "flex": null,
            "flex_flow": null,
            "grid_area": null,
            "grid_auto_columns": null,
            "grid_auto_flow": null,
            "grid_auto_rows": null,
            "grid_column": null,
            "grid_gap": null,
            "grid_row": null,
            "grid_template_areas": null,
            "grid_template_columns": null,
            "grid_template_rows": null,
            "height": null,
            "justify_content": null,
            "justify_items": null,
            "left": null,
            "margin": null,
            "max_height": null,
            "max_width": null,
            "min_height": null,
            "min_width": null,
            "object_fit": null,
            "object_position": null,
            "order": null,
            "overflow": null,
            "overflow_x": null,
            "overflow_y": null,
            "padding": null,
            "right": null,
            "top": null,
            "visibility": null,
            "width": null
          }
        },
        "0ed23f1a6be44b33a70d63aec53abf13": {
          "model_module": "@jupyter-widgets/base",
          "model_name": "LayoutModel",
          "model_module_version": "1.2.0",
          "state": {
            "_model_module": "@jupyter-widgets/base",
            "_model_module_version": "1.2.0",
            "_model_name": "LayoutModel",
            "_view_count": null,
            "_view_module": "@jupyter-widgets/base",
            "_view_module_version": "1.2.0",
            "_view_name": "LayoutView",
            "align_content": null,
            "align_items": null,
            "align_self": null,
            "border": null,
            "bottom": null,
            "display": null,
            "flex": null,
            "flex_flow": null,
            "grid_area": null,
            "grid_auto_columns": null,
            "grid_auto_flow": null,
            "grid_auto_rows": null,
            "grid_column": null,
            "grid_gap": null,
            "grid_row": null,
            "grid_template_areas": null,
            "grid_template_columns": null,
            "grid_template_rows": null,
            "height": null,
            "justify_content": null,
            "justify_items": null,
            "left": null,
            "margin": null,
            "max_height": null,
            "max_width": null,
            "min_height": null,
            "min_width": null,
            "object_fit": null,
            "object_position": null,
            "order": null,
            "overflow": null,
            "overflow_x": null,
            "overflow_y": null,
            "padding": null,
            "right": null,
            "top": null,
            "visibility": null,
            "width": null
          }
        },
        "30d5a1bd61154c499649f585fd5cbd3b": {
          "model_module": "@jupyter-widgets/controls",
          "model_name": "DescriptionStyleModel",
          "model_module_version": "1.5.0",
          "state": {
            "_model_module": "@jupyter-widgets/controls",
            "_model_module_version": "1.5.0",
            "_model_name": "DescriptionStyleModel",
            "_view_count": null,
            "_view_module": "@jupyter-widgets/base",
            "_view_module_version": "1.2.0",
            "_view_name": "StyleView",
            "description_width": ""
          }
        },
        "4430373010dc4ed38185c5dae809a13f": {
          "model_module": "@jupyter-widgets/base",
          "model_name": "LayoutModel",
          "model_module_version": "1.2.0",
          "state": {
            "_model_module": "@jupyter-widgets/base",
            "_model_module_version": "1.2.0",
            "_model_name": "LayoutModel",
            "_view_count": null,
            "_view_module": "@jupyter-widgets/base",
            "_view_module_version": "1.2.0",
            "_view_name": "LayoutView",
            "align_content": null,
            "align_items": null,
            "align_self": null,
            "border": null,
            "bottom": null,
            "display": null,
            "flex": null,
            "flex_flow": null,
            "grid_area": null,
            "grid_auto_columns": null,
            "grid_auto_flow": null,
            "grid_auto_rows": null,
            "grid_column": null,
            "grid_gap": null,
            "grid_row": null,
            "grid_template_areas": null,
            "grid_template_columns": null,
            "grid_template_rows": null,
            "height": null,
            "justify_content": null,
            "justify_items": null,
            "left": null,
            "margin": null,
            "max_height": null,
            "max_width": null,
            "min_height": null,
            "min_width": null,
            "object_fit": null,
            "object_position": null,
            "order": null,
            "overflow": null,
            "overflow_x": null,
            "overflow_y": null,
            "padding": null,
            "right": null,
            "top": null,
            "visibility": null,
            "width": null
          }
        },
        "9c82612b382747d89b308b2e7fa91b70": {
          "model_module": "@jupyter-widgets/controls",
          "model_name": "ProgressStyleModel",
          "model_module_version": "1.5.0",
          "state": {
            "_model_module": "@jupyter-widgets/controls",
            "_model_module_version": "1.5.0",
            "_model_name": "ProgressStyleModel",
            "_view_count": null,
            "_view_module": "@jupyter-widgets/base",
            "_view_module_version": "1.2.0",
            "_view_name": "StyleView",
            "bar_color": null,
            "description_width": ""
          }
        },
        "15ae04848ed34549a76b70fab1ab1a9a": {
          "model_module": "@jupyter-widgets/base",
          "model_name": "LayoutModel",
          "model_module_version": "1.2.0",
          "state": {
            "_model_module": "@jupyter-widgets/base",
            "_model_module_version": "1.2.0",
            "_model_name": "LayoutModel",
            "_view_count": null,
            "_view_module": "@jupyter-widgets/base",
            "_view_module_version": "1.2.0",
            "_view_name": "LayoutView",
            "align_content": null,
            "align_items": null,
            "align_self": null,
            "border": null,
            "bottom": null,
            "display": null,
            "flex": null,
            "flex_flow": null,
            "grid_area": null,
            "grid_auto_columns": null,
            "grid_auto_flow": null,
            "grid_auto_rows": null,
            "grid_column": null,
            "grid_gap": null,
            "grid_row": null,
            "grid_template_areas": null,
            "grid_template_columns": null,
            "grid_template_rows": null,
            "height": null,
            "justify_content": null,
            "justify_items": null,
            "left": null,
            "margin": null,
            "max_height": null,
            "max_width": null,
            "min_height": null,
            "min_width": null,
            "object_fit": null,
            "object_position": null,
            "order": null,
            "overflow": null,
            "overflow_x": null,
            "overflow_y": null,
            "padding": null,
            "right": null,
            "top": null,
            "visibility": null,
            "width": null
          }
        },
        "132f3b556c0f4afa84071f8a3a059d7f": {
          "model_module": "@jupyter-widgets/controls",
          "model_name": "DescriptionStyleModel",
          "model_module_version": "1.5.0",
          "state": {
            "_model_module": "@jupyter-widgets/controls",
            "_model_module_version": "1.5.0",
            "_model_name": "DescriptionStyleModel",
            "_view_count": null,
            "_view_module": "@jupyter-widgets/base",
            "_view_module_version": "1.2.0",
            "_view_name": "StyleView",
            "description_width": ""
          }
        }
      }
    }
  },
  "nbformat": 4,
  "nbformat_minor": 0
}