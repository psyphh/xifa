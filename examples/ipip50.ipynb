{
 "metadata": {
  "kernelspec": {
   "language": "python",
   "display_name": "Python 3",
   "name": "python3"
  },
  "language_info": {
   "name": "python",
   "version": "3.7.10",
   "mimetype": "text/x-python",
   "codemirror_mode": {
    "name": "ipython",
    "version": 3
   },
   "pygments_lexer": "ipython3",
   "nbconvert_exporter": "python",
   "file_extension": ".py"
  }
 },
 "nbformat_minor": 4,
 "nbformat": 4,
 "cells": [
  {
   "cell_type": "markdown",
   "source": [
    "# IPIP 50 Items Example\n",
    "[![Open In Colab](https://colab.research.google.com/assets/colab-badge.svg)](http://colab.research.google.com/github/psyphh/xifa/blob/master/examples/ipip50.ipynb)\n",
    "\n",
    "In this example, we will demonstrate how to use `xifa` to analyze a [`ipip50`](http://openpsychometrics.org/_rawdata/BIG5.zip) dataset from [openspychometrics](https://openpsychometrics.org/_rawdata/) with both exploratory and confirmatory graded response models (GRMs; [Semejima, 1969](https://link.springer.com/article/10.1007%2FBF03372160)). The `ipip50` dataset include responses of 19719 subjects on 50 items from International Personality Item Pool (IPIP; [Goldberg, 1992](https://doi.org/10.1037/1040-3590.4.1.26)).\n",
    "\n",
    "To open this notebook on [Google Colab](https://colab.research.google.com/), please use [this link](http://colab.research.google.com/github/psyphh/xifa/blob/master/examples/ipip50.ipynb). After logging Colab, don't forget to turn on GPU by\n",
    "```\n",
    "Go to Menu > Runtime > Change runtime > Change hardware acceleration to GPU.\n",
    "```\n",
    "\n",
    "## Environment Setup\n",
    "For first running this notebook, please install `xifa` via\n",
    "```\n",
    "pip install --upgrade xifa\n",
    "```\n",
    "on terminal, or\n",
    "```\n",
    "!pip install --upgrade xifa\n",
    "```\n",
    "on jupyter notebook (or Colab)."
   ],
   "metadata": {
    "pycharm": {
     "name": "#%% md\n"
    }
   }
  },
  {
   "cell_type": "markdown",
   "source": [
    "Note that `xifa` is established on [`jax`](https://github.com/google/jax), which is officially supported only on Linux and Mac systems. Therefore, if you use a local Windows machine, `xifa` might not work.\n",
    "\n",
    "First of all, we import all necessary packages."
   ],
   "metadata": {
    "pycharm": {
     "name": "#%% md\n"
    }
   }
  },
  {
   "cell_type": "code",
   "source": [
    "import os\n",
    "import zipfile\n",
    "\n",
    "import jax\n",
    "import matplotlib.pyplot as plt\n",
    "import numpy as np\n",
    "import pandas as pd\n",
    "import requests\n",
    "from statsmodels.multivariate.factor_rotation import rotate_factors\n",
    "\n",
    "from xifa import GRM"
   ],
   "metadata": {
    "execution": {
     "iopub.status.busy": "2021-06-28T05:32:56.588355Z",
     "iopub.execute_input": "2021-06-28T05:32:56.588870Z",
     "iopub.status.idle": "2021-06-28T05:32:57.896862Z",
     "shell.execute_reply.started": "2021-06-28T05:32:56.588786Z",
     "shell.execute_reply": "2021-06-28T05:32:57.896029Z"
    },
    "trusted": true
   },
   "execution_count": 1,
   "outputs": []
  },
  {
   "cell_type": "markdown",
   "source": [
    "By default, `jax` uses single precision for floating points arithmetics. To enable double precision arithmetics, try"
   ],
   "metadata": {
    "pycharm": {
     "name": "#%% md\n"
    }
   }
  },
  {
   "cell_type": "code",
   "source": [
    "jax.config.update(\"jax_enable_x64\", True)"
   ],
   "metadata": {
    "collapsed": false,
    "pycharm": {
     "name": "#%%\n"
    },
    "jupyter": {
     "outputs_hidden": false
    },
    "execution": {
     "iopub.status.busy": "2021-06-28T05:32:57.898384Z",
     "iopub.execute_input": "2021-06-28T05:32:57.898707Z",
     "iopub.status.idle": "2021-06-28T05:32:57.903411Z",
     "shell.execute_reply.started": "2021-06-28T05:32:57.898672Z",
     "shell.execute_reply": "2021-06-28T05:32:57.902398Z"
    },
    "trusted": true
   },
   "execution_count": 2,
   "outputs": []
  },
  {
   "cell_type": "markdown",
   "source": [
    "## Data Preparation\n",
    "\n",
    "In the next step, we download the `ipip50` dataset, unzip it, and read it as a pandas dataframe."
   ],
   "metadata": {
    "pycharm": {
     "name": "#%% md\n"
    }
   }
  },
  {
   "cell_type": "code",
   "source": [
    "def download_dataset(dataset_url,\n",
    "                     dataset_name):\n",
    "    req = requests.get(dataset_url, allow_redirects=True)\n",
    "    open(dataset_name + '.zip',\"wb\").write(req.content)\n",
    "    zipfile.ZipFile(dataset_name + '.zip').extractall()\n",
    "    os.remove(dataset_name+'.zip')\n",
    "\n",
    "dataset_url = \"http://openpsychometrics.org/_rawdata/BIG5.zip\"\n",
    "dataset_name = \"ipip50\"\n",
    "download_dataset(dataset_url, dataset_name)\n",
    "data = pd.read_csv(\"BIG5/data.csv\", sep=\"\\t\").iloc[:,-50:]"
   ],
   "metadata": {
    "collapsed": false,
    "pycharm": {
     "name": "#%%\n"
    },
    "jupyter": {
     "outputs_hidden": false
    },
    "execution": {
     "iopub.status.busy": "2021-06-28T05:32:57.905464Z",
     "iopub.execute_input": "2021-06-28T05:32:57.905812Z",
     "iopub.status.idle": "2021-06-28T05:32:58.616339Z",
     "shell.execute_reply.started": "2021-06-28T05:32:57.905778Z",
     "shell.execute_reply": "2021-06-28T05:32:58.615424Z"
    },
    "trusted": true
   },
   "execution_count": 3,
   "outputs": []
  },
  {
   "cell_type": "markdown",
   "source": [
    "The dataset only includes one observation with missing values (which is coded by `0` so we need to replace it by `np.nan`). However, the observation didn't response any items. Hence, we delete it."
   ],
   "metadata": {
    "pycharm": {
     "name": "#%% md\n"
    }
   }
  },
  {
   "cell_type": "code",
   "source": [
    "data = data.replace(0, np.nan)\n",
    "data = data.dropna()"
   ],
   "metadata": {
    "collapsed": false,
    "pycharm": {
     "name": "#%%\n"
    },
    "jupyter": {
     "outputs_hidden": false
    },
    "execution": {
     "iopub.status.busy": "2021-06-28T05:32:58.619903Z",
     "iopub.execute_input": "2021-06-28T05:32:58.620167Z",
     "iopub.status.idle": "2021-06-28T05:32:58.670424Z",
     "shell.execute_reply.started": "2021-06-28T05:32:58.620141Z",
     "shell.execute_reply": "2021-06-28T05:32:58.669630Z"
    },
    "trusted": true
   },
   "execution_count": 4,
   "outputs": []
  },
  {
   "cell_type": "markdown",
   "source": [
    "If missing data are presented, `xifa` uses the so-called full-information approach for estimation. Therefore, it is unnecessary to explicitly handle `np.nan`. The full-information estimation could still yield a consistent estimator if the assumption of missing at random (MAR) is satisfied ([Rubin, 1976](https://doi.org/10.2307/2335739)).\n",
    "\n",
    "`xifa` requires the ordered responses to be coded from `0` to `max_cats-1`, where `max_cats` is the maximal number of ordered categories. Because the original responses are coded from `1` to `max_cats`, we need to subtract all values by 1."
   ],
   "metadata": {
    "pycharm": {
     "name": "#%% md\n"
    }
   }
  },
  {
   "cell_type": "code",
   "source": [
    "data = data - 1.0"
   ],
   "metadata": {
    "collapsed": false,
    "pycharm": {
     "name": "#%%\n"
    },
    "jupyter": {
     "outputs_hidden": false
    },
    "execution": {
     "iopub.status.busy": "2021-06-28T05:32:58.672307Z",
     "iopub.execute_input": "2021-06-28T05:32:58.672555Z",
     "iopub.status.idle": "2021-06-28T05:32:58.686261Z",
     "shell.execute_reply.started": "2021-06-28T05:32:58.672531Z",
     "shell.execute_reply": "2021-06-28T05:32:58.685490Z"
    },
    "trusted": true
   },
   "execution_count": 5,
   "outputs": []
  },
  {
   "cell_type": "markdown",
   "source": [
    "Note that `xifa` could handle items with different numbers of categories. In that case, just code item `i` from `0` to `n_cats_i-1`, where `n_cats_i` is the number of categories of item `i`.\n",
    "\n",
    "We then reverse the coding for the \"negative items\" and use the heat map of correlation matrix to check whether our reversing is correct."
   ],
   "metadata": {
    "collapsed": false,
    "pycharm": {
     "name": "#%% md\n"
    }
   }
  },
  {
   "cell_type": "code",
   "execution_count": null,
   "outputs": [],
   "source": [
    "negative_items = [\"E2\", \"E4\", \"E6\", \"E8\", \"E10\",\n",
    "                  \"N2\", \"N4\",\n",
    "                  \"A1\", \"A3\", \"A5\", \"A7\",\n",
    "                  \"C2\", \"C4\", \"C6\", \"C8\",\n",
    "                  \"O2\", \"O4\", \"O6\"]\n",
    "data[negative_items] = 4 - data[negative_items]\n",
    "\n",
    "plt.figure(figsize=(3, 3), dpi=150)\n",
    "plt.imshow(data.corr(),\n",
    "           cmap='viridis')\n",
    "plt.show()"
   ],
   "metadata": {
    "collapsed": false,
    "pycharm": {
     "name": "#%%\n"
    }
   }
  },
  {
   "cell_type": "markdown",
   "source": [
    "## Exploratory IFA Implementation\n",
    "Now, we conduct exploratory IFA by using the `GRM` object imported from `xifa`. To initialize a `GRM` instance, a dataset (`data`) and a number of factors (`n_factors`) must be specified. The data must be a two dimensional array (`n_cases * n_items`) that can be transformed to `jax.numpy.array`."
   ],
   "metadata": {
    "pycharm": {
     "name": "#%% md\n"
    }
   }
  },
  {
   "cell_type": "code",
   "source": "grm = GRM(data=data, \n          n_factors=5)",
   "metadata": {
    "collapsed": false,
    "pycharm": {
     "name": "#%%\n"
    },
    "jupyter": {
     "outputs_hidden": false
    },
    "execution": {
     "iopub.status.busy": "2021-06-28T05:32:58.919164Z",
     "iopub.execute_input": "2021-06-28T05:32:58.919562Z",
     "iopub.status.idle": "2021-06-28T05:33:07.621760Z",
     "shell.execute_reply.started": "2021-06-28T05:32:58.919522Z",
     "shell.execute_reply": "2021-06-28T05:33:07.620848Z"
    },
    "trusted": true
   },
   "execution_count": 7,
   "outputs": [
    {
     "name": "stdout",
     "text": "A GRM Object is Initialized for Exploratory Analysis.\n + Number of Cases: 19718\n + Number of Items: 50\n + Number of Factors: 5\n + Number of Categories: 5\n",
     "output_type": "stream"
    }
   ]
  },
  {
   "cell_type": "markdown",
   "source": "After initialization, by default, a summary for model will be printed. This can be turn off by setting `verbose=False`.\n\nThe marginal maximum likelihood (MML) estimation can be implemented by the `fit()` method. `xifa` implements MML by a vectorized Metropolis-Hastings Robbins-Monro (MH-RM) algorithm. The algorithm includes two stages. The first stage updates the parameter estimate by a stochastic expectation-maximization (StEM) algorithm. The second stage conducts stochastic approximation (SA) to refine the estimate.",
   "metadata": {
    "pycharm": {
     "name": "#%% md\n"
    }
   }
  },
  {
   "cell_type": "code",
   "source": "grm.fit()",
   "metadata": {
    "collapsed": false,
    "pycharm": {
     "name": "#%%\n"
    },
    "jupyter": {
     "outputs_hidden": false
    },
    "execution": {
     "iopub.status.busy": "2021-06-28T05:33:07.624232Z",
     "iopub.execute_input": "2021-06-28T05:33:07.624603Z",
     "iopub.status.idle": "2021-06-28T05:33:22.263713Z",
     "shell.execute_reply.started": "2021-06-28T05:33:07.624564Z",
     "shell.execute_reply": "2021-06-28T05:33:22.262917Z"
    },
    "trusted": true
   },
   "execution_count": 8,
   "outputs": [
    {
     "output_type": "display_data",
     "data": {
      "text/plain": "  0%|          | 0/200 [00:00<?, ?it/s]",
      "application/vnd.jupyter.widget-view+json": {
       "version_major": 2,
       "version_minor": 0,
       "model_id": "3e06d6729e7a4e819209646276987085"
      }
     },
     "metadata": {}
    },
    {
     "output_type": "display_data",
     "data": {
      "text/plain": "  0%|          | 0/300 [00:00<?, ?it/s]",
      "application/vnd.jupyter.widget-view+json": {
       "version_major": 2,
       "version_minor": 0,
       "model_id": "1012a99f639f4d72941152e246153c52"
      }
     },
     "metadata": {}
    },
    {
     "name": "stdout",
     "text": "Converged after 255 Iterations (14.39 sec).\n",
     "output_type": "stream"
    },
    {
     "execution_count": 8,
     "output_type": "execute_result",
     "data": {
      "text/plain": "<xifa.grm.GRM at 0x7f938e3f3290>"
     },
     "metadata": {}
    }
   ]
  },
  {
   "cell_type": "markdown",
   "source": "In this example, CPU takes about 3-8 minutes to finish the optimization job. If any GPU is available, the job can be speed up. On Colab with GPU, the job takes about 30 seconds (depending on the GPU resource availability).\n",
   "metadata": {
    "pycharm": {
     "name": "#%% md\n"
    }
   }
  },
  {
   "cell_type": "markdown",
   "source": "The MML parameter estimate is stored in the `params` attribute. `params` is a dictionary with three keys: `intercept` for the intercept vector, `loading` for the factor loading matrix, and `corr` for the factor correlation matrix. For example, the estimated factor correlation matrix can be extracted by",
   "metadata": {
    "pycharm": {
     "name": "#%% md\n"
    }
   }
  },
  {
   "cell_type": "code",
   "source": "print(np.round(grm.params[\"corr\"], 3))",
   "metadata": {
    "collapsed": false,
    "pycharm": {
     "name": "#%%\n"
    },
    "jupyter": {
     "outputs_hidden": false
    },
    "execution": {
     "iopub.status.busy": "2021-06-28T05:33:22.266566Z",
     "iopub.execute_input": "2021-06-28T05:33:22.266837Z",
     "iopub.status.idle": "2021-06-28T05:33:22.411004Z",
     "shell.execute_reply.started": "2021-06-28T05:33:22.266810Z",
     "shell.execute_reply": "2021-06-28T05:33:22.410207Z"
    },
    "trusted": true
   },
   "execution_count": 9,
   "outputs": [
    {
     "name": "stdout",
     "text": "[[1. 0. 0. 0. 0.]\n [0. 1. 0. 0. 0.]\n [0. 0. 1. 0. 0.]\n [0. 0. 0. 1. 0.]\n [0. 0. 0. 0. 1.]]\n",
     "output_type": "stream"
    }
   ]
  },
  {
   "cell_type": "markdown",
   "source": "The factor correlations are all zero because the exploratory analysis assumes orthogonal factors by convention. To capture the relationships among items and factors appropriately, we use `rotate_factors` in `statsmodels` to obtain a rotated loading matrix and factor correlations",
   "metadata": {
    "pycharm": {
     "name": "#%% md\n"
    }
   }
  },
  {
   "cell_type": "code",
   "source": "L, T  = rotate_factors(\n    grm.params[\"loading\"],\n    'quartimin', 0.5)\nprint(\"Rotated Factor Loading Matrix: \\n\",\n      np.round(L, 2))\nprint(\"Factor Correlation Matrix: \\n\",\n      np.round(T.T @ T, 2))",
   "metadata": {
    "collapsed": false,
    "pycharm": {
     "name": "#%%\n"
    },
    "jupyter": {
     "outputs_hidden": false
    },
    "execution": {
     "iopub.status.busy": "2021-06-28T05:33:22.412135Z",
     "iopub.execute_input": "2021-06-28T05:33:22.412499Z",
     "iopub.status.idle": "2021-06-28T05:33:24.474474Z",
     "shell.execute_reply.started": "2021-06-28T05:33:22.412470Z",
     "shell.execute_reply": "2021-06-28T05:33:24.473560Z"
    },
    "trusted": true
   },
   "execution_count": 10,
   "outputs": [
    {
     "name": "stdout",
     "text": "Rotated Factor Loading Matrix: \n [[-0.02  0.15  0.05  0.13 -1.89]\n [-0.04 -0.05  0.14  0.29 -1.96]\n [ 0.15 -0.43 -0.24 -0.5  -2.08]\n [ 0.07  0.22  0.02 -0.1  -2.17]\n [-0.18 -0.32 -0.19  0.13 -2.43]\n [-0.54 -0.17  0.02 -0.01 -1.47]\n [ 0.04 -0.12  0.    0.02 -2.44]\n [-0.04  0.36  0.18  0.13 -1.49]\n [-0.27  0.31  0.07  0.15 -1.64]\n [ 0.06  0.19  0.05 -0.25 -1.95]\n [ 0.15 -0.33 -0.15  1.89  0.2 ]\n [ 0.13 -0.05 -0.23  1.17  0.16]\n [-0.05 -0.62 -0.28  1.64  0.37]\n [-0.15 -0.16  0.15  0.67  0.32]\n [ 0.22 -0.04  0.09  1.33  0.  ]\n [ 0.23 -0.25 -0.01  2.39  0.03]\n [-0.08  0.12  0.2   2.22 -0.15]\n [-0.03  0.15  0.23  2.5  -0.14]\n [-0.03  0.39 -0.17  2.28 -0.05]\n [-0.19 -0.09  0.27  1.6   0.59]\n [-0.07 -1.11  0.03 -0.23  0.07]\n [-0.14 -1.35  0.15 -0.15 -0.81]\n [ 0.22 -0.96 -0.36 -0.65  0.38]\n [ 0.   -2.71 -0.01  0.03  0.17]\n [ 0.03 -1.9   0.13 -0.15 -0.21]\n [ 0.21 -1.6  -0.07  0.32  0.12]\n [-0.01 -1.77  0.14 -0.32 -0.77]\n [-0.04 -1.51 -0.13 -0.1  -0.15]\n [-0.18 -2.16 -0.12  0.27 -0.1 ]\n [-0.19 -0.81 -0.27 -0.19 -0.69]\n [-0.32  0.12 -1.51 -0.06 -0.04]\n [ 0.25  0.2  -1.3  -0.09  0.09]\n [-0.69 -0.2  -0.94  0.11  0.22]\n [ 0.01  0.05 -1.43 -0.8  -0.09]\n [ 0.19 -0.01 -1.64  0.02 -0.22]\n [ 0.14  0.14 -1.51 -0.24  0.01]\n [-0.14 -0.02 -1.41  0.35  0.14]\n [-0.08 -0.27 -1.08 -0.41 -0.05]\n [ 0.06 -0.11 -1.65  0.27 -0.13]\n [-0.62 -0.07 -1.12  0.1   0.04]\n [-1.43  0.12  0.   -0.11  0.1 ]\n [-1.42 -0.03  0.12 -0.56  0.21]\n [-1.44 -0.24  0.28  0.24  0.14]\n [-1.15 -0.31  0.26 -0.35  0.26]\n [-1.68  0.15 -0.36 -0.03 -0.32]\n [-1.41 -0.24  0.16 -0.12 -0.04]\n [-1.28  0.06 -0.4  -0.24  0.01]\n [-1.32  0.27  0.16  0.17  0.13]\n [-0.86 -0.53 -0.06  0.32  0.52]\n [-2.03 -0.03 -0.02  0.03 -0.26]]\nFactor Correlation Matrix: \n [[1.   0.11 0.05 0.07 0.19]\n [0.11 1.   0.16 0.02 0.28]\n [0.05 0.16 1.   0.25 0.11]\n [0.07 0.02 0.25 1.   0.25]\n [0.19 0.28 0.11 0.25 1.  ]]\n",
     "output_type": "stream"
    }
   ]
  },
  {
   "cell_type": "markdown",
   "source": "The optimization history is stored in the `trace` attribute. To see how the complete data loss changes over iterations, we may use",
   "metadata": {
    "pycharm": {
     "name": "#%% md\n"
    }
   }
  },
  {
   "cell_type": "code",
   "source": "plt.plot(grm.trace[\"closs\"])\nplt.ylabel('Complete Loss Values')\nplt.xlabel('Iteration')\nplt.title('MH-RM History')\nplt.show()",
   "metadata": {
    "collapsed": false,
    "pycharm": {
     "name": "#%%\n"
    },
    "jupyter": {
     "outputs_hidden": false
    },
    "execution": {
     "iopub.status.busy": "2021-06-28T05:33:24.475843Z",
     "iopub.execute_input": "2021-06-28T05:33:24.476187Z",
     "iopub.status.idle": "2021-06-28T05:33:24.623475Z",
     "shell.execute_reply.started": "2021-06-28T05:33:24.476147Z",
     "shell.execute_reply": "2021-06-28T05:33:24.622492Z"
    },
    "trusted": true
   },
   "execution_count": 11,
   "outputs": [
    {
     "output_type": "display_data",
     "data": {
      "text/plain": "<Figure size 432x288 with 1 Axes>",
      "image/png": "[encoded data removed]"
     },
     "metadata": {
      "needs_background": "light"
     }
    }
   ]
  },
  {
   "cell_type": "markdown",
   "source": "## Confirmatory IFA Implementation\n Finally, we conduct a confirmatory analysis with GRM. For a confirmatory analysis, an additional argument `patterns` must be given. `patterns` is a `dict` (`python` dictionary) with two keys: `loading` and `corr`. `patterns[\"loading\"]` is also a `dict` to specify the relationships among items and factors. On the other hand, `patterns[\"corr\"]` is for the pattern of factor correlations. If either `loading` or `corr` is not included in `pattern`, its corresponding parameter matrix will be freely estimated.\n\n For example, we can set an independent cluster structure for the loading matrix in this `ipip50` example by",
   "metadata": {
    "pycharm": {
     "name": "#%% md\n"
    }
   }
  },
  {
   "cell_type": "code",
   "source": "n_factors = 5\nn_items = 50\nitems_per_factor = int(n_items / n_factors)\npatterns = {\n    \"loading\":{m: list(\n        range(m * items_per_factor, (m + 1) * items_per_factor)) for m in range(n_factors)}}\nprint(patterns[\"loading\"])",
   "metadata": {
    "collapsed": false,
    "pycharm": {
     "name": "#%%\n"
    },
    "jupyter": {
     "outputs_hidden": false
    },
    "execution": {
     "iopub.status.busy": "2021-06-28T05:33:24.624761Z",
     "iopub.execute_input": "2021-06-28T05:33:24.625263Z",
     "iopub.status.idle": "2021-06-28T05:33:24.631048Z",
     "shell.execute_reply.started": "2021-06-28T05:33:24.625203Z",
     "shell.execute_reply": "2021-06-28T05:33:24.629931Z"
    },
    "trusted": true
   },
   "execution_count": 12,
   "outputs": [
    {
     "name": "stdout",
     "text": "{0: [0, 1, 2, 3, 4, 5, 6, 7, 8, 9], 1: [10, 11, 12, 13, 14, 15, 16, 17, 18, 19], 2: [20, 21, 22, 23, 24, 25, 26, 27, 28, 29], 3: [30, 31, 32, 33, 34, 35, 36, 37, 38, 39], 4: [40, 41, 42, 43, 44, 45, 46, 47, 48, 49]}\n",
     "output_type": "stream"
    }
   ]
  },
  {
   "cell_type": "markdown",
   "source": "We can see that `patterns[\"loading\"]` specifies the relationship among items and factors through their indices (starting form 0) by a `dict` (`key` for indices of factors and `value` for indices of corresponding items). Note that we didn't specify a `patterns[\"corr\"]` and hence all of the correlations among factors will be freely estimated.\n\nIf `patterns` is specified when initializing `GRM`, the model will be treated as confirmatory.",
   "metadata": {
    "pycharm": {
     "name": "#%% md\n"
    }
   }
  },
  {
   "cell_type": "code",
   "source": "grm = GRM(data=data, \n          n_factors=5,\n          patterns=patterns)",
   "metadata": {
    "collapsed": false,
    "pycharm": {
     "name": "#%%\n"
    },
    "jupyter": {
     "outputs_hidden": false
    },
    "execution": {
     "iopub.status.busy": "2021-06-28T05:33:24.632506Z",
     "iopub.execute_input": "2021-06-28T05:33:24.632858Z",
     "iopub.status.idle": "2021-06-28T05:33:25.210450Z",
     "shell.execute_reply.started": "2021-06-28T05:33:24.632822Z",
     "shell.execute_reply": "2021-06-28T05:33:25.209472Z"
    },
    "trusted": true
   },
   "execution_count": 13,
   "outputs": [
    {
     "name": "stdout",
     "text": "A GRM Object is Initialized for Confirmatory Analysis.\n + Number of Cases: 19718\n + Number of Items: 50\n + Number of Factors: 5\n + Number of Categories: 5\n",
     "output_type": "stream"
    }
   ]
  },
  {
   "cell_type": "markdown",
   "source": "We can still use `fit()` method to calculate a parameter estimate, i.e.,",
   "metadata": {
    "pycharm": {
     "name": "#%% md\n"
    }
   }
  },
  {
   "cell_type": "code",
   "source": "grm.fit()",
   "metadata": {
    "collapsed": false,
    "pycharm": {
     "name": "#%%\n"
    },
    "jupyter": {
     "outputs_hidden": false
    },
    "execution": {
     "iopub.status.busy": "2021-06-28T05:33:25.211725Z",
     "iopub.execute_input": "2021-06-28T05:33:25.212236Z",
     "iopub.status.idle": "2021-06-28T05:33:39.745939Z",
     "shell.execute_reply.started": "2021-06-28T05:33:25.212184Z",
     "shell.execute_reply": "2021-06-28T05:33:39.744803Z"
    },
    "trusted": true
   },
   "execution_count": 14,
   "outputs": [
    {
     "output_type": "display_data",
     "data": {
      "text/plain": "  0%|          | 0/200 [00:00<?, ?it/s]",
      "application/vnd.jupyter.widget-view+json": {
       "version_major": 2,
       "version_minor": 0,
       "model_id": "8d438950316f46b9ac8499583c3d571b"
      }
     },
     "metadata": {}
    },
    {
     "output_type": "display_data",
     "data": {
      "text/plain": "  0%|          | 0/300 [00:00<?, ?it/s]",
      "application/vnd.jupyter.widget-view+json": {
       "version_major": 2,
       "version_minor": 0,
       "model_id": "815e16f3cda347db9c7e357ff6fab4d0"
      }
     },
     "metadata": {}
    },
    {
     "name": "stdout",
     "text": "Converged after 284 Iterations (14.52 sec).\n",
     "output_type": "stream"
    },
    {
     "execution_count": 14,
     "output_type": "execute_result",
     "data": {
      "text/plain": "<xifa.grm.GRM at 0x7f936c6126d0>"
     },
     "metadata": {}
    }
   ]
  },
  {
   "cell_type": "markdown",
   "source": "The corresponding estimated loading matrix and correlation matrix are",
   "metadata": {
    "pycharm": {
     "name": "#%% md\n"
    }
   }
  },
  {
   "cell_type": "code",
   "source": "print(\"Factor Loading Matrix: \\n\",\n      np.round(grm.params[\"loading\"], 2))\nprint(\"Factor Correlation Matrix: \\n\",\n      np.round(grm.params[\"corr\"], 2))",
   "metadata": {
    "collapsed": false,
    "pycharm": {
     "name": "#%%\n"
    },
    "jupyter": {
     "outputs_hidden": false
    },
    "execution": {
     "iopub.status.busy": "2021-06-28T05:33:39.747523Z",
     "iopub.execute_input": "2021-06-28T05:33:39.747933Z",
     "iopub.status.idle": "2021-06-28T05:33:39.762770Z",
     "shell.execute_reply.started": "2021-06-28T05:33:39.747890Z",
     "shell.execute_reply": "2021-06-28T05:33:39.761319Z"
    },
    "trusted": true
   },
   "execution_count": 15,
   "outputs": [
    {
     "name": "stdout",
     "text": "Factor Loading Matrix: \n [[1.75 0.   0.   0.   0.  ]\n [1.87 0.   0.   0.   0.  ]\n [2.11 0.   0.   0.   0.  ]\n [2.09 0.   0.   0.   0.  ]\n [2.57 0.   0.   0.   0.  ]\n [1.61 0.   0.   0.   0.  ]\n [2.47 0.   0.   0.   0.  ]\n [1.26 0.   0.   0.   0.  ]\n [1.48 0.   0.   0.   0.  ]\n [1.96 0.   0.   0.   0.  ]\n [0.   1.84 0.   0.   0.  ]\n [0.   1.18 0.   0.   0.  ]\n [0.   1.46 0.   0.   0.  ]\n [0.   0.82 0.   0.   0.  ]\n [0.   1.34 0.   0.   0.  ]\n [0.   2.35 0.   0.   0.  ]\n [0.   2.21 0.   0.   0.  ]\n [0.   2.54 0.   0.   0.  ]\n [0.   2.06 0.   0.   0.  ]\n [0.   1.78 0.   0.   0.  ]\n [0.   0.   1.07 0.   0.  ]\n [0.   0.   1.6  0.   0.  ]\n [0.   0.   0.74 0.   0.  ]\n [0.   0.   2.39 0.   0.  ]\n [0.   0.   1.99 0.   0.  ]\n [0.   0.   1.33 0.   0.  ]\n [0.   0.   2.01 0.   0.  ]\n [0.   0.   1.59 0.   0.  ]\n [0.   0.   2.11 0.   0.  ]\n [0.   0.   1.12 0.   0.  ]\n [0.   0.   0.   1.49 0.  ]\n [0.   0.   0.   1.24 0.  ]\n [0.   0.   0.   0.85 0.  ]\n [0.   0.   0.   1.62 0.  ]\n [0.   0.   0.   1.62 0.  ]\n [0.   0.   0.   1.61 0.  ]\n [0.   0.   0.   1.17 0.  ]\n [0.   0.   0.   1.28 0.  ]\n [0.   0.   0.   1.48 0.  ]\n [0.   0.   0.   1.03 0.  ]\n [0.   0.   0.   0.   1.28]\n [0.   0.   0.   0.   1.36]\n [0.   0.   0.   0.   1.36]\n [0.   0.   0.   0.   1.12]\n [0.   0.   0.   0.   1.74]\n [0.   0.   0.   0.   1.53]\n [0.   0.   0.   0.   1.2 ]\n [0.   0.   0.   0.   1.07]\n [0.   0.   0.   0.   0.66]\n [0.   0.   0.   0.   2.16]]\nFactor Correlation Matrix: \n [[ 1.   -0.29  0.42  0.15  0.23]\n [-0.29  1.   -0.1  -0.33 -0.13]\n [ 0.42 -0.1   1.    0.21  0.18]\n [ 0.15 -0.33  0.21  1.    0.12]\n [ 0.23 -0.13  0.18  0.12  1.  ]]\n",
     "output_type": "stream"
    }
   ]
  }
 ]
}